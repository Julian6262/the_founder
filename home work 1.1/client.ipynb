{
  "nbformat": 4,
  "nbformat_minor": 0,
  "metadata": {
    "colab": {
      "provenance": [],
      "authorship_tag": "ABX9TyPZutPe1l3zlCOWyWp2DmRi",
      "include_colab_link": true
    },
    "kernelspec": {
      "name": "python3",
      "display_name": "Python 3"
    },
    "language_info": {
      "name": "python"
    }
  },
  "cells": [
    {
      "cell_type": "markdown",
      "metadata": {
        "id": "view-in-github",
        "colab_type": "text"
      },
      "source": [
        "<a href=\"https://colab.research.google.com/github/Julian6262/the_founder/blob/main/home%20work%201.1/client.ipynb\" target=\"_parent\"><img src=\"https://colab.research.google.com/assets/colab-badge.svg\" alt=\"Open In Colab\"/></a>"
      ]
    },
    {
      "cell_type": "code",
      "source": [
        "from google.colab import drive\n",
        "drive.mount('/content/drive')"
      ],
      "metadata": {
        "id": "rieaHJELUaU3"
      },
      "execution_count": null,
      "outputs": []
    },
    {
      "cell_type": "code",
      "execution_count": null,
      "metadata": {
        "id": "mQ_9KMrW-4gN"
      },
      "outputs": [],
      "source": [
        "import socket\n",
        "import tqdm\n",
        "import os\n",
        "\n",
        "host = \"0.tcp.ngrok.io\"\n",
        "port = 18347\n",
        "\n",
        "filename = \"01.mkv\"\n",
        "path = '/content/drive/My Drive/Colab Notebooks/' + filename\n",
        "\n",
        "BUFFER_SIZE = 4096\n",
        "SEPARATOR = \"<SEPARATOR>\"\n",
        "\n",
        "filesize = os.path.getsize(path)\n",
        "s = socket.socket()\n",
        "print(f\"[+] Connecting to {host}:{port}\")\n",
        "s.connect((host, port))\n",
        "print(\"[+] Connected.\")\n",
        "\n",
        "s.send(f\"{filename}{SEPARATOR}{filesize}\".encode())\n",
        "\n",
        "progress = tqdm.tqdm(range(filesize), f\"Sending {filename}\", unit=\"B\", unit_scale=True, unit_divisor=1024)\n",
        "with open(path, \"rb\") as f:\n",
        "    while True:\n",
        "\n",
        "        bytes_read = f.read(BUFFER_SIZE)\n",
        "        if not bytes_read:\n",
        "            break\n",
        "\n",
        "        s.sendall(bytes_read)\n",
        "        progress.update(len(bytes_read))\n",
        "\n",
        "s.close()"
      ]
    }
  ]
}