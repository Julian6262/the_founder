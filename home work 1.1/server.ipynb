{
  "nbformat": 4,
  "nbformat_minor": 0,
  "metadata": {
    "colab": {
      "provenance": []
    },
    "kernelspec": {
      "name": "python3",
      "display_name": "Python 3"
    },
    "language_info": {
      "name": "python"
    }
  },
  "cells": [
    {
      "cell_type": "code",
      "source": [
        "!pip install tqdm\n",
        "!pip install pyngrok\n",
        "from google.colab import drive\n",
        "drive.mount('/content/drive')"
      ],
      "metadata": {
        "id": "Lo9-Q5GFarqu"
      },
      "execution_count": null,
      "outputs": []
    },
    {
      "cell_type": "code",
      "execution_count": null,
      "metadata": {
        "id": "ZP_cSrN1-z9n"
      },
      "outputs": [],
      "source": [
        "import socket\n",
        "import tqdm\n",
        "import os\n",
        "from pyngrok import ngrok\n",
        "\n",
        "port = 5311\n",
        "ngrok.set_auth_token(\"2YAVMnJuQSyzdmvIgDE5G377dya_4fNS8ZKGC3Sj69HEKD6DU\")\n",
        "public_url = ngrok.connect(port, \"tcp\")\n",
        "print(public_url)\n",
        "\n",
        "filename_out = \"01-1111.mkv\"\n",
        "path = '/content/drive/My Drive/Colab Notebooks/' + filename_out\n",
        "\n",
        "SERVER_HOST = \"localhost\"\n",
        "SERVER_PORT = port\n",
        "\n",
        "BUFFER_SIZE = 4096\n",
        "SEPARATOR = \"<SEPARATOR>\"\n",
        "\n",
        "s = socket.socket()\n",
        "s.bind((SERVER_HOST, SERVER_PORT))\n",
        "s.listen(5)\n",
        "print(f\"[*] Listening as {SERVER_HOST}:{SERVER_PORT}\")\n",
        "client_socket, address = s.accept()\n",
        "print(f\"[+] {address} is connected.\")\n",
        "received = client_socket.recv(BUFFER_SIZE).decode()\n",
        "filename, filesize = received.split(SEPARATOR)\n",
        "filename = os.path.basename(filename)\n",
        "filesize = int(filesize)\n",
        "\n",
        "progress = tqdm.tqdm(range(filesize), f\"Receiving {filename}\", unit=\"B\", unit_scale=True, unit_divisor=1024)\n",
        "with open(path, \"wb\") as f:\n",
        "    while True:\n",
        "        bytes_read = client_socket.recv(BUFFER_SIZE)\n",
        "\n",
        "        if not bytes_read:\n",
        "            break\n",
        "\n",
        "        f.write(bytes_read)\n",
        "        progress.update(len(bytes_read))\n",
        "\n",
        "client_socket.close()\n",
        "s.close()"
      ]
    }
  ]
}