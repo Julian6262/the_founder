file_read = input("Введите имя исходного файла: ")
file_write = input("Введите имя целевого файла: ")

with open(file_read, 'r', encoding='utf-8') as f_read, open(file_write, 'w', encoding='utf-8') as f_write:
    for num, line in enumerate(f_read, 1):
        f_write.write(f"{num}: " + line)
