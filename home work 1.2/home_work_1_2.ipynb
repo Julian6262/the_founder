{
  "nbformat": 4,
  "nbformat_minor": 0,
  "metadata": {
    "colab": {
      "provenance": [],
      "authorship_tag": "ABX9TyNNVKpPA43opPYOom+gc8IQ",
      "include_colab_link": true
    },
    "kernelspec": {
      "name": "python3",
      "display_name": "Python 3"
    },
    "language_info": {
      "name": "python"
    }
  },
  "cells": [
    {
      "cell_type": "markdown",
      "metadata": {
        "id": "view-in-github",
        "colab_type": "text"
      },
      "source": [
        "<a href=\"https://colab.research.google.com/github/Julian6262/the_founder/blob/main/home%20work%201.2/home_work_1_2.ipynb\" target=\"_parent\"><img src=\"https://colab.research.google.com/assets/colab-badge.svg\" alt=\"Open In Colab\"/></a>"
      ]
    },
    {
      "cell_type": "code",
      "execution_count": null,
      "metadata": {
        "id": "C0uPeMXF9ts4"
      },
      "outputs": [],
      "source": [
        "file_read = input(\"Введите имя исходного файла: \")\n",
        "file_write = input(\"Введите имя целевого файла: \")\n",
        "\n",
        "with open(file_read, 'r', encoding='utf-8') as f_read, open(file_write, 'w', encoding='utf-8') as f_write:\n",
        "    for num, line in enumerate(f_read, 1):\n",
        "        f_write.write(f\"{num}: \" + line)"
      ]
    }
  ]
}