{
  "nbformat": 4,
  "nbformat_minor": 0,
  "metadata": {
    "colab": {
      "provenance": [],
      "authorship_tag": "ABX9TyNkSi+AapfQOBZaqrERWJEa",
      "include_colab_link": true
    },
    "kernelspec": {
      "name": "python3",
      "display_name": "Python 3"
    },
    "language_info": {
      "name": "python"
    }
  },
  "cells": [
    {
      "cell_type": "markdown",
      "metadata": {
        "id": "view-in-github",
        "colab_type": "text"
      },
      "source": [
        "<a href=\"https://colab.research.google.com/github/Julian6262/the_founder/blob/main/home%20work%201.3/home_work_1_3.ipynb\" target=\"_parent\"><img src=\"https://colab.research.google.com/assets/colab-badge.svg\" alt=\"Open In Colab\"/></a>"
      ]
    },
    {
      "cell_type": "markdown",
      "source": [
        "В данном упражнении вы должны врврварыварварвар написать программу, которая будет\n",
        "находить самое длинное слово в файле. В качестве результата программа\n",
        "должна выводить на экран длину самого длинного слова и все слова такой\n",
        "длины. Для простоты принимайте за значимые буквы любые анепробельные\n",
        "символы, включая цифры и знаки препинания."
      ],
      "metadata": {
        "id": "wxzF9bhyhPo0"
      }
    },
    {
      "cell_type": "code",
      "execution_count": null,
      "metadata": {
        "id": "TnE9mHWsgzrc"
      },
      "outputs": [],
      "source": [
        "data = []\n",
        "word_len_prev = 0\n",
        "\n",
        "with open('1.txt', 'r', encoding='utf-8') as f_read:\n",
        "    for line in f_read:\n",
        "        for word in line.split():\n",
        "            word_len = len(word)\n",
        "            if word_len > word_len_prev:\n",
        "                word_len_prev = word_len\n",
        "                data.clear()\n",
        "            if word_len >= word_len_prev:\n",
        "                data.append(word)\n",
        "\n",
        "print('Длина самого длинного слова:', word_len_prev)\n",
        "print(data)"
      ]
    }
  ]
}