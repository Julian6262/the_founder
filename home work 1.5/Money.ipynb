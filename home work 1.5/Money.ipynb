{
  "nbformat": 4,
  "nbformat_minor": 0,
  "metadata": {
    "colab": {
      "provenance": [],
      "authorship_tag": "ABX9TyOHi/LWeZnoARYnxEHTmuHG",
      "include_colab_link": true
    },
    "kernelspec": {
      "name": "python3",
      "display_name": "Python 3"
    },
    "language_info": {
      "name": "python"
    }
  },
  "cells": [
    {
      "cell_type": "markdown",
      "metadata": {
        "id": "view-in-github",
        "colab_type": "text"
      },
      "source": [
        "<a href=\"https://colab.research.google.com/github/Julian6262/the_founder/blob/main/home%20work%201.5/Money.ipynb\" target=\"_parent\"><img src=\"https://colab.research.google.com/assets/colab-badge.svg\" alt=\"Open In Colab\"/></a>"
      ]
    },
    {
      "cell_type": "markdown",
      "source": [
        "Напишите программу, которая будет определять, можно ли составить\n",
        "конкретную сумму из определенного количества монет. Например, можно\n",
        "набрать доллар из четырех монет номиналом в 25 центов. Но при помощи\n",
        "пяти монет доллар никак не собрать. При этом из шести монет это\n",
        "снова возможно, если взять три монеты по 25 центов, две– по 10 и одну\n",
        "номиналом в 5 центов. Также возможно собрать сумму $1,25 из пяти или\n",
        "восьми монет, но не удастся это сделать с четырьмя, шестью или семью\n",
        "монетами.\n",
        "Ваша основная программа должна запрашивать у пользователя искомую сумму и количество монет.\n",
        "На выходе вы должны получить сообщение о том, можно или нет собрать\n",
        "введенную сумму при помощи заданного количества монет.\n",
        "Представьте, что для решения этой задачи в вашем\n",
        "распоряжении есть монеты номиналом 1, 5, 10 и 25 центов. Также ваша\n",
        "программа должна включать рекурсивный алгоритм. Циклов в ней быть\n",
        "не должно."
      ],
      "metadata": {
        "id": "M4_82KtPOsXq"
      }
    },
    {
      "cell_type": "code",
      "execution_count": null,
      "metadata": {
        "id": "wAucsSPrOpGp"
      },
      "outputs": [],
      "source": [
        "summ = float(input('Введите сумму: ')) * 100\n",
        "quantity = int(input('Введите количество монет: '))\n",
        "\n",
        "coins = [1, 5, 10, 25]\n",
        "result = []\n",
        "\n",
        "\n",
        "def check_summ(summ, quantity):\n",
        "    c = coins.pop()\n",
        "    d = summ // c\n",
        "\n",
        "    if quantity - d > 1:\n",
        "        d -= 1\n",
        "\n",
        "    summ -= d * c\n",
        "    quantity -= d\n",
        "\n",
        "    result.append(f'{c} cent * {int(d)}')\n",
        "\n",
        "    if summ == 0 and quantity == 0:\n",
        "        return result\n",
        "    if quantity < 0 or (summ == 0 and quantity > 0) or not coins:\n",
        "        return \"собрать введенную сумму нельзя\"\n",
        "\n",
        "    return check_summ(summ, quantity)\n",
        "\n",
        "\n",
        "print(check_summ(summ, quantity))"
      ]
    }
  ]
}