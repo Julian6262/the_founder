{
  "nbformat": 4,
  "nbformat_minor": 0,
  "metadata": {
    "colab": {
      "provenance": [],
      "authorship_tag": "ABX9TyO0jn+YAsQs/LuQMYcTasYb",
      "include_colab_link": true
    },
    "kernelspec": {
      "name": "python3",
      "display_name": "Python 3"
    },
    "language_info": {
      "name": "python"
    }
  },
  "cells": [
    {
      "cell_type": "markdown",
      "metadata": {
        "id": "view-in-github",
        "colab_type": "text"
      },
      "source": [
        "<a href=\"https://colab.research.google.com/github/Julian6262/the_founder/blob/main/home%20work%2010/%D0%94%D0%BE%D0%BC%D0%B0%D1%88%D0%BD%D1%8F%D1%8F_%D1%80%D0%B0%D0%B1%D0%BE%D1%82%D0%B0_10_1.ipynb\" target=\"_parent\"><img src=\"https://colab.research.google.com/assets/colab-badge.svg\" alt=\"Open In Colab\"/></a>"
      ]
    },
    {
      "cell_type": "markdown",
      "source": [
        "**Задача 1. Обнаружение фальшивых новостей**"
      ],
      "metadata": {
        "id": "efJ-t6EYRmyz"
      }
    },
    {
      "cell_type": "code",
      "source": [
        "import matplotlib.pyplot as plt\n",
        "import seaborn as sns\n",
        "import pandas as pd\n",
        "from sklearn.model_selection import train_test_split\n",
        "from sklearn.feature_extraction.text import TfidfVectorizer\n",
        "from sklearn.linear_model import PassiveAggressiveClassifier\n",
        "from sklearn.metrics import accuracy_score, confusion_matrix"
      ],
      "metadata": {
        "id": "XJO_Ol6NQxkV"
      },
      "execution_count": null,
      "outputs": []
    },
    {
      "cell_type": "code",
      "source": [
        "# Загрузка датасет\n",
        "df = pd.read_csv('./fake_news.csv')\n",
        "print(df.head(5))"
      ],
      "metadata": {
        "colab": {
          "base_uri": "https://localhost:8080/"
        },
        "id": "JkrqPw4SQy_D",
        "outputId": "dbf42fab-8cde-4706-bdd6-dafae6f38577"
      },
      "execution_count": null,
      "outputs": [
        {
          "output_type": "stream",
          "name": "stdout",
          "text": [
            "   Unnamed: 0                                              title  \\\n",
            "0        8476                       You Can Smell Hillary’s Fear   \n",
            "1       10294  Watch The Exact Moment Paul Ryan Committed Pol...   \n",
            "2        3608        Kerry to go to Paris in gesture of sympathy   \n",
            "3       10142  Bernie supporters on Twitter erupt in anger ag...   \n",
            "4         875   The Battle of New York: Why This Primary Matters   \n",
            "\n",
            "                                                text label  \n",
            "0  Daniel Greenfield, a Shillman Journalism Fello...  FAKE  \n",
            "1  Google Pinterest Digg Linkedin Reddit Stumbleu...  FAKE  \n",
            "2  U.S. Secretary of State John F. Kerry said Mon...  REAL  \n",
            "3  — Kaydee King (@KaydeeKing) November 9, 2016 T...  FAKE  \n",
            "4  It's primary day in New York and front-runners...  REAL  \n"
          ]
        }
      ]
    },
    {
      "cell_type": "code",
      "source": [
        "# Проверка на пустые строки\n",
        "print(df.isnull().sum())"
      ],
      "metadata": {
        "colab": {
          "base_uri": "https://localhost:8080/"
        },
        "id": "EXjas1MehnFk",
        "outputId": "fdab0602-4de9-4eae-8097-1c11ccb310d3"
      },
      "execution_count": null,
      "outputs": [
        {
          "output_type": "stream",
          "name": "stdout",
          "text": [
            "Unnamed: 0    0\n",
            "title         0\n",
            "text          0\n",
            "label         0\n",
            "dtype: int64\n"
          ]
        }
      ]
    },
    {
      "cell_type": "code",
      "source": [
        "X_train, X_test, y_train, y_test = train_test_split(df['text'], df.label, test_size=0.2)"
      ],
      "metadata": {
        "id": "Wcl2-yiTRkN7"
      },
      "execution_count": null,
      "outputs": []
    },
    {
      "cell_type": "code",
      "source": [
        "label = df.label.value_counts()\n",
        "label.loc['TOTAL'] = df.shape[0]\n",
        "print(label)\n",
        "\n",
        "fig = sns.barplot(x=label.index, y=label, hue=label.index, order=['TOTAL', 'REAL', 'FAKE'])\n",
        "fig.set(xlabel='Метки', ylabel='Кол-во')\n",
        "plt.title(\"Количество реальных, поддельных и общее количество новостей в датасет\")\n",
        "plt.show()"
      ],
      "metadata": {
        "colab": {
          "base_uri": "https://localhost:8080/",
          "height": 541
        },
        "id": "GDuBT_cvYpJD",
        "outputId": "a33a14de-b20e-4fa5-8a7d-4ab74cdfcb77"
      },
      "execution_count": null,
      "outputs": [
        {
          "output_type": "stream",
          "name": "stdout",
          "text": [
            "REAL     3171\n",
            "FAKE     3164\n",
            "TOTAL    6335\n",
            "Name: label, dtype: int64\n"
          ]
        },
        {
          "output_type": "display_data",
          "data": {
            "text/plain": [
              "<Figure size 640x480 with 1 Axes>"
            ],
            "image/png": "[encoded data removed]"
          },
          "metadata": {}
        }
      ]
    },
    {
      "cell_type": "code",
      "source": [
        "# Преобразование текстовых данных в матрицу TF-IDF\n",
        "tfidf_vectorizer = TfidfVectorizer(stop_words='english')\n",
        "X_train_tfidf = tfidf_vectorizer.fit_transform(X_train)\n",
        "X_test_tfidf = tfidf_vectorizer.transform(X_test)\n",
        "\n",
        "# Обучение модели классификации\n",
        "pac = PassiveAggressiveClassifier(max_iter=50, verbose=True)\n",
        "pac.fit(X_train_tfidf, y_train)\n",
        "\n",
        "# Предсказание категорий для тестовых данных\n",
        "y_pred = pac.predict(X_test_tfidf)\n",
        "\n",
        "# Оценка точности модели\n",
        "accuracy = accuracy_score(y_test, y_pred)\n",
        "print(f'\\nТочность модели: {round(accuracy * 100, 2)}%')"
      ],
      "metadata": {
        "colab": {
          "base_uri": "https://localhost:8080/"
        },
        "id": "k5T-r6J0Zg-E",
        "outputId": "049ed914-d29b-4c03-a6c7-9b1cd0ef4b90"
      },
      "execution_count": null,
      "outputs": [
        {
          "output_type": "stream",
          "name": "stdout",
          "text": [
            "-- Epoch 1\n",
            "Norm: 38.87, NNZs: 47122, Bias: -0.627366, T: 5039, Avg. loss: 0.319725\n",
            "Total training time: 0.01 seconds.\n",
            "-- Epoch 2\n",
            "Norm: 44.60, NNZs: 48113, Bias: -0.524816, T: 10078, Avg. loss: 0.074253\n",
            "Total training time: 0.03 seconds.\n",
            "-- Epoch 3\n",
            "Norm: 47.22, NNZs: 48774, Bias: -0.548533, T: 15117, Avg. loss: 0.031769\n",
            "Total training time: 0.04 seconds.\n",
            "-- Epoch 4\n",
            "Norm: 48.35, NNZs: 48822, Bias: -0.534698, T: 20156, Avg. loss: 0.014147\n",
            "Total training time: 0.05 seconds.\n",
            "-- Epoch 5\n",
            "Norm: 48.86, NNZs: 48841, Bias: -0.537032, T: 25195, Avg. loss: 0.007866\n",
            "Total training time: 0.06 seconds.\n",
            "-- Epoch 6\n",
            "Norm: 49.06, NNZs: 48847, Bias: -0.541776, T: 30234, Avg. loss: 0.004609\n",
            "Total training time: 0.07 seconds.\n",
            "-- Epoch 7\n",
            "Norm: 49.16, NNZs: 48849, Bias: -0.538288, T: 35273, Avg. loss: 0.003619\n",
            "Total training time: 0.08 seconds.\n",
            "-- Epoch 8\n",
            "Norm: 49.20, NNZs: 48849, Bias: -0.539966, T: 40312, Avg. loss: 0.003073\n",
            "Total training time: 0.09 seconds.\n",
            "-- Epoch 9\n",
            "Norm: 49.23, NNZs: 48849, Bias: -0.539390, T: 45351, Avg. loss: 0.002863\n",
            "Total training time: 0.10 seconds.\n",
            "-- Epoch 10\n",
            "Norm: 49.24, NNZs: 48849, Bias: -0.539314, T: 50390, Avg. loss: 0.002746\n",
            "Total training time: 0.11 seconds.\n",
            "-- Epoch 11\n",
            "Norm: 49.24, NNZs: 48849, Bias: -0.539234, T: 55429, Avg. loss: 0.002684\n",
            "Total training time: 0.12 seconds.\n",
            "Convergence after 11 epochs took 0.12 seconds\n",
            "\n",
            "Точность модели: 94.55%\n"
          ]
        }
      ]
    },
    {
      "cell_type": "code",
      "source": [
        "# Построение confusion matrix\n",
        "conf_matrix = confusion_matrix(y_test, y_pred)\n",
        "print(\"Confusion Matrix:\\n\", conf_matrix)\n",
        "\n",
        "ax = plt.subplot()\n",
        "sns.heatmap(conf_matrix, annot=True, fmt='g', ax=ax)\n",
        "ax.set_xlabel('Предсказанные метки')\n",
        "ax.set_ylabel('Правильные метки')\n",
        "ax.set_title('Confusion Matrix')\n",
        "ax.xaxis.set_ticklabels(['TRUE', 'FAKE'])\n",
        "ax.yaxis.set_ticklabels(['TRUE', 'FAKE'])\n",
        "plt.show()"
      ],
      "metadata": {
        "colab": {
          "base_uri": "https://localhost:8080/",
          "height": 524
        },
        "id": "S7kg4-BfIrd9",
        "outputId": "a683e781-69b0-4f32-ca94-f5e9615926d2"
      },
      "execution_count": null,
      "outputs": [
        {
          "output_type": "stream",
          "name": "stdout",
          "text": [
            "Confusion Matrix:\n",
            " [[611  32]\n",
            " [ 37 587]]\n"
          ]
        },
        {
          "output_type": "display_data",
          "data": {
            "text/plain": [
              "<Figure size 640x480 with 2 Axes>"
            ],
            "image/png": "[encoded data removed]"
          },
          "metadata": {}
        }
      ]
    },
    {
      "cell_type": "markdown",
      "source": [
        "Далее проверка части фраз из новостей на модели: 5ть новостей из тестовой выборки и 5ть реальных новостей с сайтов."
      ],
      "metadata": {
        "id": "mdIEc0ixJClF"
      }
    },
    {
      "cell_type": "code",
      "source": [
        "text_test = ['Daniel Greenfield, a Shillman Journalism',      # FAKE\n",
        "             'The online comment fits closely with his',      # REAL\n",
        "             'NEW YORK - Bernie Sanders is at a crossroads',  # REAL\n",
        "             'Support Us Should I Get Botox?',                # FAKE\n",
        "             'The president now plans to continue a U.S']     # REAL\n",
        "\n",
        "X_tfidf = tfidf_vectorizer.transform(text_test)\n",
        "y_pred = pac.predict(X_tfidf)\n",
        "print('\\nПроверка на тестовой выборке')\n",
        "print('Должно быть: FAKE, REAL, REAL, FAKE, REAL')\n",
        "print('Как есть:', *y_pred)\n",
        "\n",
        "text_real_news = ['The plane went down in the Belgorod region near the Ukrainian border, Russian officials say',\n",
        "                  'Ryan Gosling says what everyone’s thinking about ‘Barbie’ Oscar snubs',\n",
        "                  'The 14km border that separates Gaza from Egypt has been used for years by militants in the enclave to smuggle weapons, technology, money, and personnel.',\n",
        "                  'The country has been gripped by continued major protests since early January, when farmers started blocking roads and highways after Berlin',\n",
        "                  'Staff members and hundreds of patients were trapped at a hospital by heavy fighting in southern Gaza']\n",
        "\n",
        "X_tfidf = tfidf_vectorizer.transform(text_real_news)\n",
        "y_pred = pac.predict(X_tfidf)\n",
        "print('\\nПроверка на реальных новостях:')\n",
        "print('Должно быть: REAL, REAL, REAL, REAL, REAL')\n",
        "print('Как есть:', *y_pred)"
      ],
      "metadata": {
        "colab": {
          "base_uri": "https://localhost:8080/"
        },
        "id": "Wqw03hZmJfZl",
        "outputId": "07e9a919-e247-42a4-f8f9-8473820f2008"
      },
      "execution_count": null,
      "outputs": [
        {
          "output_type": "stream",
          "name": "stdout",
          "text": [
            "\n",
            "Проверка на тестовой выборке\n",
            "Должно быть: FAKE, REAL, REAL, FAKE, REAL\n",
            "Как есть: FAKE REAL REAL FAKE FAKE\n",
            "\n",
            "Проверка на реальных новостях:\n",
            "Должно быть: REAL, REAL, REAL, REAL, REAL\n",
            "Как есть: REAL REAL FAKE REAL FAKE\n"
          ]
        }
      ]
    }
  ]
}