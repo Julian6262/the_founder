{
  "nbformat": 4,
  "nbformat_minor": 0,
  "metadata": {
    "colab": {
      "provenance": [],
      "include_colab_link": true
    },
    "kernelspec": {
      "name": "python3",
      "display_name": "Python 3"
    },
    "language_info": {
      "name": "python"
    }
  },
  "cells": [
    {
      "cell_type": "markdown",
      "metadata": {
        "id": "view-in-github",
        "colab_type": "text"
      },
      "source": [
        "<a href=\"https://colab.research.google.com/github/Julian6262/the_founder/blob/main/home%20work%2012/%D0%94%D0%BE%D0%BC%D0%B0%D1%88%D0%BD%D1%8F%D1%8F_%D1%80%D0%B0%D0%B1%D0%BE%D1%82%D0%B0_12_1.ipynb\" target=\"_parent\"><img src=\"https://colab.research.google.com/assets/colab-badge.svg\" alt=\"Open In Colab\"/></a>"
      ]
    },
    {
      "cell_type": "markdown",
      "source": [
        "**Навигация по уроку**\n",
        "\n",
        "1. [Введение в асинхронное программирование](https://colab.research.google.com/drive/1zP6eYcbMJOqvzi_MC_EvZ2Zbgc32gYTa)\n",
        "2. Упражнения к теме по асинхронному программированию\n",
        "3. [Создание Telegram-бота с использованием aiogram3 и BotFather](https://colab.research.google.com/drive/1bgS8Uuqi2jrhqDAyaMmxhbOLJ3TvmKFC)\n",
        "4. [Домашняя работа](https://colab.research.google.com/drive/1ylF61osqEgPqg4KgfmikbKMAyalhjBqv)"
      ],
      "metadata": {
        "id": "aSTQjGzOOtp8"
      }
    },
    {
      "cell_type": "markdown",
      "source": [
        "В данной части урока вам предстоит решить 10 простых задач на тему урока."
      ],
      "metadata": {
        "id": "5yRf47_CKqOH"
      }
    },
    {
      "cell_type": "markdown",
      "source": [
        "1. **Асинхронный таймер:**\n",
        "   - Напишите программу с использованием `asyncio`, которая в течение определенного времени (например, 10 секунд) выводит сообщение каждую секунду. Используйте `asyncio.sleep` для создания таймера."
      ],
      "metadata": {
        "id": "yQDLe_9hK25n"
      }
    },
    {
      "cell_type": "code",
      "source": [
        "import nest_asyncio\n",
        "nest_asyncio.apply()"
      ],
      "metadata": {
        "id": "SJqp10fQSgV1"
      },
      "execution_count": null,
      "outputs": []
    },
    {
      "cell_type": "code",
      "execution_count": null,
      "metadata": {
        "id": "z5dxXwm3FJwS",
        "colab": {
          "base_uri": "https://localhost:8080/"
        },
        "outputId": "a5792079-a320-45bf-d3cc-180f439ddd11"
      },
      "outputs": [
        {
          "output_type": "stream",
          "name": "stdout",
          "text": [
            "0\n",
            "1\n",
            "2\n",
            "3\n",
            "4\n",
            "5\n",
            "6\n",
            "7\n",
            "8\n",
            "9\n"
          ]
        }
      ],
      "source": [
        "import asyncio\n",
        "\n",
        "\n",
        "async def a1():\n",
        "    for i in range(10):\n",
        "        await asyncio.sleep(1)\n",
        "        print(i)\n",
        "\n",
        "\n",
        "async def main():\n",
        "    t1 = asyncio.create_task(a1())\n",
        "\n",
        "    await t1\n",
        "\n",
        "\n",
        "asyncio.run(main())"
      ]
    },
    {
      "cell_type": "markdown",
      "source": [
        "2. **Параллельные HTTP-запросы:**\n",
        "   - Разработайте программу, используя `asyncio`, для выполнения нескольких асинхронных HTTP-запросов к различным веб-ресурсам параллельно. Обработайте результаты запросов."
      ],
      "metadata": {
        "id": "cz0AXdWGK34s"
      }
    },
    {
      "cell_type": "code",
      "source": [
        "import aiohttp\n",
        "import asyncio\n",
        "\n",
        "\n",
        "async def fetch_data(url):\n",
        "    async with aiohttp.ClientSession() as session:\n",
        "        async with session.get(url) as response:\n",
        "            response = await response.text()\n",
        "            print(\"Ответ от сервера:\", response)\n",
        "\n",
        "\n",
        "async def main():\n",
        "    urls = [\"https://jsonplaceholder.typicode.com/todos/1\",\n",
        "            \"https://jsonplaceholder.typicode.com/todos/100\",\n",
        "            \"https://jsonplaceholder.typicode.com/todos/150\",\n",
        "            \"https://jsonplaceholder.typicode.com/todos/200\"]\n",
        "\n",
        "    tasks = [fetch_data(i) for i in urls]\n",
        "\n",
        "    await asyncio.gather(*tasks)\n",
        "\n",
        "\n",
        "asyncio.run(main())"
      ],
      "metadata": {
        "id": "6Et3gDmrK4S8",
        "colab": {
          "base_uri": "https://localhost:8080/"
        },
        "outputId": "8d6eaf36-75a3-494a-a256-26fa98e3dbba"
      },
      "execution_count": null,
      "outputs": [
        {
          "output_type": "stream",
          "name": "stdout",
          "text": [
            "Ответ от сервера: {\n",
            "  \"userId\": 5,\n",
            "  \"id\": 100,\n",
            "  \"title\": \"excepturi a et neque qui expedita vel voluptate\",\n",
            "  \"completed\": false\n",
            "}\n",
            "Ответ от сервера: {\n",
            "  \"userId\": 1,\n",
            "  \"id\": 1,\n",
            "  \"title\": \"delectus aut autem\",\n",
            "  \"completed\": false\n",
            "}\n",
            "Ответ от сервера: {\n",
            "  \"userId\": 10,\n",
            "  \"id\": 200,\n",
            "  \"title\": \"ipsam aperiam voluptates qui\",\n",
            "  \"completed\": false\n",
            "}\n",
            "Ответ от сервера: {\n",
            "  \"userId\": 8,\n",
            "  \"id\": 150,\n",
            "  \"title\": \"eos amet tempore laudantium fugit a\",\n",
            "  \"completed\": false\n",
            "}\n"
          ]
        }
      ]
    },
    {
      "cell_type": "markdown",
      "source": [
        "3. **Асинхронный калькулятор:**\n",
        "   - Создайте программу, где пользователь может вводить асинхронные математические операции (например, сложение, умножение) в интерактивном режиме. Реализуйте асинхронную обработку ввода."
      ],
      "metadata": {
        "id": "gpR9oBvYLLPU"
      }
    },
    {
      "cell_type": "code",
      "source": [
        "import asyncio\n",
        "\n",
        "\n",
        "async def add_num():\n",
        "    try:\n",
        "        num1, num2 = float(input(\"Введите первое число: \")), float(input(\"Введите второе число: \"))\n",
        "        print(f\"Результат сложения: {num1 + num2}\")\n",
        "    except ValueError:\n",
        "        print(\"Ошибка: Введите корректное число!\")\n",
        "\n",
        "\n",
        "async def multiply_num():\n",
        "    try:\n",
        "        num1, num2 = float(input(\"Введите первое число: \")), float(input(\"Введите второе число: \"))\n",
        "        print(f\"Результат умножения: {num1 * num2}\")\n",
        "    except ValueError:\n",
        "        print(\"Введите корректное число!\")\n",
        "\n",
        "\n",
        "async def main():\n",
        "    print(\"Возможные операции:\")\n",
        "    print(\"1. +\")\n",
        "    print(\"2. *\")\n",
        "    op = input(\"Введите номер операции: \")\n",
        "\n",
        "    if op == \"1\":\n",
        "        await add_num()\n",
        "    elif op == \"2\":\n",
        "        await multiply_num()\n",
        "    else:\n",
        "        print(\"Ведено неверное число\")\n",
        "\n",
        "\n",
        "asyncio.run(main())"
      ],
      "metadata": {
        "id": "0n80jta_LEfH",
        "colab": {
          "base_uri": "https://localhost:8080/"
        },
        "outputId": "d6c34767-5031-465c-ea1f-b5242e51309d"
      },
      "execution_count": null,
      "outputs": [
        {
          "output_type": "stream",
          "name": "stdout",
          "text": [
            "Возможные операции:\n",
            "1. +\n",
            "2. *\n",
            "Введите номер операции: 2\n",
            "Введите первое число: 5\n",
            "Введите второе число: 7\n",
            "Результат умножения: 35.0\n"
          ]
        }
      ]
    },
    {
      "cell_type": "markdown",
      "source": [
        "4. **Асинхронные задачи с обработкой ошибок:**\n",
        "   - Напишите программу, в которой несколько асинхронных задач выполняются параллельно. Включите обработку возможных ошибок в каждой задаче."
      ],
      "metadata": {
        "id": "lzaaNoM3LLsw"
      }
    },
    {
      "cell_type": "code",
      "source": [
        "import asyncio\n",
        "import aiohttp\n",
        "\n",
        "\n",
        "async def a1():\n",
        "    await asyncio.sleep(1)\n",
        "    return 'message'\n",
        "\n",
        "\n",
        "async def a2():\n",
        "    await asyncio.sleep(3)\n",
        "    return 1 + 2\n",
        "\n",
        "\n",
        "async def a3():\n",
        "    async with aiohttp.ClientSession() as session:\n",
        "        async with session.get(\"https://jsonplaceholder.typicode.com/todos/100\") as response:\n",
        "            await asyncio.sleep(6)\n",
        "            return await response.text()\n",
        "\n",
        "\n",
        "async def main():\n",
        "    t1 = asyncio.create_task(a1())\n",
        "    t2 = asyncio.create_task(a2())\n",
        "    t3 = asyncio.create_task(a3())\n",
        "\n",
        "    await t1\n",
        "    print(t1.result())\n",
        "\n",
        "    t2.cancel()\n",
        "\n",
        "    try:\n",
        "        await t2\n",
        "        print(t2.result())\n",
        "    except asyncio.CancelledError:\n",
        "        print('Задача t2 была отменена')\n",
        "\n",
        "    try:\n",
        "        # await t3 #Тк задача не поставлена в ожидание, она может не выполниться по завершению остальных задач\n",
        "        print(t3.result())\n",
        "    except asyncio.InvalidStateError:\n",
        "        print('Выполнение задачи t3 не завершено')\n",
        "\n",
        "    try:\n",
        "        await asyncio.wait_for(t3, timeout=4)\n",
        "        print(t3.result())\n",
        "    except asyncio.TimeoutError:\n",
        "        print('Выполнение задачи t3 не завершено вовремя')\n",
        "\n",
        "\n",
        "asyncio.run(main())"
      ],
      "metadata": {
        "id": "lM5zcOx4LGck",
        "colab": {
          "base_uri": "https://localhost:8080/"
        },
        "outputId": "4e4cf506-b677-4cdd-8497-fa45473c401a"
      },
      "execution_count": null,
      "outputs": [
        {
          "output_type": "stream",
          "name": "stdout",
          "text": [
            "message\n",
            "Задача t2 была отменена\n",
            "Выполнение задачи t3 не завершено\n",
            "Выполнение задачи t3 не завершено вовремя\n"
          ]
        }
      ]
    },
    {
      "cell_type": "markdown",
      "source": [
        "5. **Асинхронный генератор случайных чисел:**\n",
        "   - Реализуйте асинхронный генератор, который асинхронно возвращает случайные числа. Запустите несколько задач для генерации чисел параллельно."
      ],
      "metadata": {
        "id": "SkYIiSa1LMV5"
      }
    },
    {
      "cell_type": "code",
      "source": [
        "import asyncio\n",
        "from random import randint\n",
        "\n",
        "\n",
        "async def gen(num, start, end, count=10):\n",
        "    for i in range(count):\n",
        "        await asyncio.sleep(1)\n",
        "        print(f'Gen{num}:', randint(start, end))\n",
        "\n",
        "\n",
        "async def main():\n",
        "    t1 = gen(1, 0, 9)\n",
        "    t2 = gen(2, 10, 99)\n",
        "    t3 = gen(3, 100, 999)\n",
        "\n",
        "    await asyncio.gather(t1, t2, t3)\n",
        "\n",
        "\n",
        "asyncio.run(main())"
      ],
      "metadata": {
        "id": "hFBJYNLxLGOy",
        "colab": {
          "base_uri": "https://localhost:8080/"
        },
        "outputId": "2af8d6d0-2e8e-42ec-80ac-88d40700deeb"
      },
      "execution_count": null,
      "outputs": [
        {
          "output_type": "stream",
          "name": "stdout",
          "text": [
            "Gen1: 9\n",
            "Gen2: 25\n",
            "Gen3: 762\n",
            "Gen1: 4\n",
            "Gen2: 28\n",
            "Gen3: 632\n",
            "Gen1: 8\n",
            "Gen2: 99\n",
            "Gen3: 103\n",
            "Gen1: 6\n",
            "Gen2: 89\n",
            "Gen3: 613\n",
            "Gen1: 0\n",
            "Gen2: 62\n",
            "Gen3: 782\n",
            "Gen1: 7\n",
            "Gen2: 46\n",
            "Gen3: 821\n",
            "Gen1: 5\n",
            "Gen2: 58\n",
            "Gen3: 996\n",
            "Gen1: 6\n",
            "Gen2: 31\n",
            "Gen3: 500\n",
            "Gen1: 7\n",
            "Gen2: 62\n",
            "Gen3: 948\n",
            "Gen1: 5\n",
            "Gen2: 14\n",
            "Gen3: 130\n"
          ]
        }
      ]
    },
    {
      "cell_type": "markdown",
      "source": [
        "6. **Асинхронный поиск файлов:**\n",
        "   - Напишите программу, которая асинхронно ищет файлы определенного типа в указанном каталоге. Обработайте результаты поиска."
      ],
      "metadata": {
        "id": "MnDTSinuLMxM"
      }
    },
    {
      "cell_type": "code",
      "source": [
        "import os\n",
        "import asyncio\n",
        "\n",
        "\n",
        "async def search_files(directory, extension):\n",
        "    found_files = []\n",
        "    for _, _, files in os.walk(directory):\n",
        "        for file in files:\n",
        "            if file.endswith(extension):\n",
        "                found_files.append(file)\n",
        "        break # Выход из цикла, чтоб не лезть в подпапки\n",
        "    return found_files\n",
        "\n",
        "\n",
        "async def process_files(directory, extension, files):\n",
        "    print(f\"Директория: {directory} содержит файлы с расширением {extension}\")\n",
        "    for file in files:\n",
        "        print(file)\n",
        "\n",
        "\n",
        "async def main():\n",
        "    directory = \"./\"\n",
        "    extension = \".txt\"\n",
        "    found_files = await search_files(directory, extension)\n",
        "    await process_files(directory, extension, found_files)\n",
        "\n",
        "\n",
        "asyncio.run(main())"
      ],
      "metadata": {
        "id": "qlcoMYBzLGES",
        "colab": {
          "base_uri": "https://localhost:8080/"
        },
        "outputId": "fb69fab1-438c-4968-e463-55f784445fe6"
      },
      "execution_count": null,
      "outputs": [
        {
          "output_type": "stream",
          "name": "stdout",
          "text": [
            "Директория: ./ содержит файлы с расширением .txt\n",
            "test.txt\n",
            "1.txt\n",
            "search.txt\n"
          ]
        }
      ]
    },
    {
      "cell_type": "markdown",
      "source": [
        "7. **Асинхронный кэш:**\n",
        "   - Создайте простой асинхронный кэш, который позволяет асинхронно добавлять и получать значения по ключу. Проверьте его работу в параллельных задачах."
      ],
      "metadata": {
        "id": "NW9vUmQgLNR7"
      }
    },
    {
      "cell_type": "code",
      "source": [
        "import asyncio\n",
        "\n",
        "\n",
        "async def cache_set(cache, key, value):\n",
        "    cache[key] = value\n",
        "\n",
        "\n",
        "async def cache_get(cache, key):\n",
        "    return cache.get(key)\n",
        "\n",
        "\n",
        "async def main():\n",
        "    cache = {}\n",
        "    await asyncio.gather(\n",
        "        cache_set(cache, 'key1', '1'), cache_set(cache, 'key2', '2'), cache_set(cache, 'key3', '3'),\n",
        "        cache_set(cache, 'key4', '4'), cache_set(cache, 'key5', '5'), cache_set(cache, 'key6', '6'),\n",
        "    )\n",
        "\n",
        "    res = await asyncio.gather(\n",
        "        cache_get(cache, 'key1'), cache_get(cache, 'key2'), cache_get(cache, 'key3'),\n",
        "        cache_get(cache, 'key4'), cache_get(cache, 'key5'), cache_get(cache, 'key6'),\n",
        "    )\n",
        "\n",
        "    print(res)\n",
        "\n",
        "\n",
        "asyncio.run(main())"
      ],
      "metadata": {
        "id": "GEPZQD40LF6b",
        "colab": {
          "base_uri": "https://localhost:8080/"
        },
        "outputId": "f0b9fbaa-eeb9-4cd4-a145-c666248455fe"
      },
      "execution_count": null,
      "outputs": [
        {
          "output_type": "stream",
          "name": "stdout",
          "text": [
            "['1', '2', '3', '4', '5', '6']\n"
          ]
        }
      ]
    },
    {
      "cell_type": "markdown",
      "source": [
        "8. **Асинхронные запросы к API:**\n",
        "   - Используйте библиотеку aiohttp для асинхронных запросов к открытому API (например, JSONPlaceholder). Получите данные о пользователях и постах."
      ],
      "metadata": {
        "id": "NoQ7XjX8LNwv"
      }
    },
    {
      "cell_type": "code",
      "source": [
        "from ast import literal_eval\n",
        "import aiohttp\n",
        "import asyncio\n",
        "\n",
        "\n",
        "async def fetch_data(url):\n",
        "    async with aiohttp.ClientSession() as session:\n",
        "        async with session.get(url) as response:\n",
        "            return await response.text()\n",
        "\n",
        "\n",
        "async def main():\n",
        "    url1 = \"https://jsonplaceholder.typicode.com/posts\"\n",
        "    url2 = \"https://jsonplaceholder.typicode.com/users\"\n",
        "\n",
        "    posts = fetch_data(url1)\n",
        "    users = fetch_data(url2)\n",
        "\n",
        "    res_posts, res_users = await asyncio.gather(posts, users)\n",
        "\n",
        "    users = literal_eval(res_users)\n",
        "    print('Пользователи:')\n",
        "    for i in users:\n",
        "        print(i)\n",
        "\n",
        "    posts = literal_eval(res_posts)\n",
        "    print('\\nПосты:')\n",
        "    for i, k in enumerate(posts):\n",
        "        print(k)\n",
        "        if i > 10: break\n",
        "\n",
        "\n",
        "asyncio.run(main())"
      ],
      "metadata": {
        "id": "lZL5FYSpLFyB",
        "colab": {
          "base_uri": "https://localhost:8080/"
        },
        "outputId": "0b600bb1-59c4-43fc-9f06-e651953110d9"
      },
      "execution_count": null,
      "outputs": [
        {
          "output_type": "stream",
          "name": "stdout",
          "text": [
            "Пользователи:\n",
            "{'id': 1, 'name': 'Leanne Graham', 'username': 'Bret', 'email': 'Sincere@april.biz', 'address': {'street': 'Kulas Light', 'suite': 'Apt. 556', 'city': 'Gwenborough', 'zipcode': '92998-3874', 'geo': {'lat': '-37.3159', 'lng': '81.1496'}}, 'phone': '1-770-736-8031 x56442', 'website': 'hildegard.org', 'company': {'name': 'Romaguera-Crona', 'catchPhrase': 'Multi-layered client-server neural-net', 'bs': 'harness real-time e-markets'}}\n",
            "{'id': 2, 'name': 'Ervin Howell', 'username': 'Antonette', 'email': 'Shanna@melissa.tv', 'address': {'street': 'Victor Plains', 'suite': 'Suite 879', 'city': 'Wisokyburgh', 'zipcode': '90566-7771', 'geo': {'lat': '-43.9509', 'lng': '-34.4618'}}, 'phone': '010-692-6593 x09125', 'website': 'anastasia.net', 'company': {'name': 'Deckow-Crist', 'catchPhrase': 'Proactive didactic contingency', 'bs': 'synergize scalable supply-chains'}}\n",
            "{'id': 3, 'name': 'Clementine Bauch', 'username': 'Samantha', 'email': 'Nathan@yesenia.net', 'address': {'street': 'Douglas Extension', 'suite': 'Suite 847', 'city': 'McKenziehaven', 'zipcode': '59590-4157', 'geo': {'lat': '-68.6102', 'lng': '-47.0653'}}, 'phone': '1-463-123-4447', 'website': 'ramiro.info', 'company': {'name': 'Romaguera-Jacobson', 'catchPhrase': 'Face to face bifurcated interface', 'bs': 'e-enable strategic applications'}}\n",
            "{'id': 4, 'name': 'Patricia Lebsack', 'username': 'Karianne', 'email': 'Julianne.OConner@kory.org', 'address': {'street': 'Hoeger Mall', 'suite': 'Apt. 692', 'city': 'South Elvis', 'zipcode': '53919-4257', 'geo': {'lat': '29.4572', 'lng': '-164.2990'}}, 'phone': '493-170-9623 x156', 'website': 'kale.biz', 'company': {'name': 'Robel-Corkery', 'catchPhrase': 'Multi-tiered zero tolerance productivity', 'bs': 'transition cutting-edge web services'}}\n",
            "{'id': 5, 'name': 'Chelsey Dietrich', 'username': 'Kamren', 'email': 'Lucio_Hettinger@annie.ca', 'address': {'street': 'Skiles Walks', 'suite': 'Suite 351', 'city': 'Roscoeview', 'zipcode': '33263', 'geo': {'lat': '-31.8129', 'lng': '62.5342'}}, 'phone': '(254)954-1289', 'website': 'demarco.info', 'company': {'name': 'Keebler LLC', 'catchPhrase': 'User-centric fault-tolerant solution', 'bs': 'revolutionize end-to-end systems'}}\n",
            "{'id': 6, 'name': 'Mrs. Dennis Schulist', 'username': 'Leopoldo_Corkery', 'email': 'Karley_Dach@jasper.info', 'address': {'street': 'Norberto Crossing', 'suite': 'Apt. 950', 'city': 'South Christy', 'zipcode': '23505-1337', 'geo': {'lat': '-71.4197', 'lng': '71.7478'}}, 'phone': '1-477-935-8478 x6430', 'website': 'ola.org', 'company': {'name': 'Considine-Lockman', 'catchPhrase': 'Synchronised bottom-line interface', 'bs': 'e-enable innovative applications'}}\n",
            "{'id': 7, 'name': 'Kurtis Weissnat', 'username': 'Elwyn.Skiles', 'email': 'Telly.Hoeger@billy.biz', 'address': {'street': 'Rex Trail', 'suite': 'Suite 280', 'city': 'Howemouth', 'zipcode': '58804-1099', 'geo': {'lat': '24.8918', 'lng': '21.8984'}}, 'phone': '210.067.6132', 'website': 'elvis.io', 'company': {'name': 'Johns Group', 'catchPhrase': 'Configurable multimedia task-force', 'bs': 'generate enterprise e-tailers'}}\n",
            "{'id': 8, 'name': 'Nicholas Runolfsdottir V', 'username': 'Maxime_Nienow', 'email': 'Sherwood@rosamond.me', 'address': {'street': 'Ellsworth Summit', 'suite': 'Suite 729', 'city': 'Aliyaview', 'zipcode': '45169', 'geo': {'lat': '-14.3990', 'lng': '-120.7677'}}, 'phone': '586.493.6943 x140', 'website': 'jacynthe.com', 'company': {'name': 'Abernathy Group', 'catchPhrase': 'Implemented secondary concept', 'bs': 'e-enable extensible e-tailers'}}\n",
            "{'id': 9, 'name': 'Glenna Reichert', 'username': 'Delphine', 'email': 'Chaim_McDermott@dana.io', 'address': {'street': 'Dayna Park', 'suite': 'Suite 449', 'city': 'Bartholomebury', 'zipcode': '76495-3109', 'geo': {'lat': '24.6463', 'lng': '-168.8889'}}, 'phone': '(775)976-6794 x41206', 'website': 'conrad.com', 'company': {'name': 'Yost and Sons', 'catchPhrase': 'Switchable contextually-based project', 'bs': 'aggregate real-time technologies'}}\n",
            "{'id': 10, 'name': 'Clementina DuBuque', 'username': 'Moriah.Stanton', 'email': 'Rey.Padberg@karina.biz', 'address': {'street': 'Kattie Turnpike', 'suite': 'Suite 198', 'city': 'Lebsackbury', 'zipcode': '31428-2261', 'geo': {'lat': '-38.2386', 'lng': '57.2232'}}, 'phone': '024-648-3804', 'website': 'ambrose.net', 'company': {'name': 'Hoeger LLC', 'catchPhrase': 'Centralized empowering task-force', 'bs': 'target end-to-end models'}}\n",
            "\n",
            "Посты:\n",
            "{'userId': 1, 'id': 1, 'title': 'sunt aut facere repellat provident occaecati excepturi optio reprehenderit', 'body': 'quia et suscipit\\nsuscipit recusandae consequuntur expedita et cum\\nreprehenderit molestiae ut ut quas totam\\nnostrum rerum est autem sunt rem eveniet architecto'}\n",
            "{'userId': 1, 'id': 2, 'title': 'qui est esse', 'body': 'est rerum tempore vitae\\nsequi sint nihil reprehenderit dolor beatae ea dolores neque\\nfugiat blanditiis voluptate porro vel nihil molestiae ut reiciendis\\nqui aperiam non debitis possimus qui neque nisi nulla'}\n",
            "{'userId': 1, 'id': 3, 'title': 'ea molestias quasi exercitationem repellat qui ipsa sit aut', 'body': 'et iusto sed quo iure\\nvoluptatem occaecati omnis eligendi aut ad\\nvoluptatem doloribus vel accusantium quis pariatur\\nmolestiae porro eius odio et labore et velit aut'}\n",
            "{'userId': 1, 'id': 4, 'title': 'eum et est occaecati', 'body': 'ullam et saepe reiciendis voluptatem adipisci\\nsit amet autem assumenda provident rerum culpa\\nquis hic commodi nesciunt rem tenetur doloremque ipsam iure\\nquis sunt voluptatem rerum illo velit'}\n",
            "{'userId': 1, 'id': 5, 'title': 'nesciunt quas odio', 'body': 'repudiandae veniam quaerat sunt sed\\nalias aut fugiat sit autem sed est\\nvoluptatem omnis possimus esse voluptatibus quis\\nest aut tenetur dolor neque'}\n",
            "{'userId': 1, 'id': 6, 'title': 'dolorem eum magni eos aperiam quia', 'body': 'ut aspernatur corporis harum nihil quis provident sequi\\nmollitia nobis aliquid molestiae\\nperspiciatis et ea nemo ab reprehenderit accusantium quas\\nvoluptate dolores velit et doloremque molestiae'}\n",
            "{'userId': 1, 'id': 7, 'title': 'magnam facilis autem', 'body': 'dolore placeat quibusdam ea quo vitae\\nmagni quis enim qui quis quo nemo aut saepe\\nquidem repellat excepturi ut quia\\nsunt ut sequi eos ea sed quas'}\n",
            "{'userId': 1, 'id': 8, 'title': 'dolorem dolore est ipsam', 'body': 'dignissimos aperiam dolorem qui eum\\nfacilis quibusdam animi sint suscipit qui sint possimus cum\\nquaerat magni maiores excepturi\\nipsam ut commodi dolor voluptatum modi aut vitae'}\n",
            "{'userId': 1, 'id': 9, 'title': 'nesciunt iure omnis dolorem tempora et accusantium', 'body': 'consectetur animi nesciunt iure dolore\\nenim quia ad\\nveniam autem ut quam aut nobis\\net est aut quod aut provident voluptas autem voluptas'}\n",
            "{'userId': 1, 'id': 10, 'title': 'optio molestias id quia eum', 'body': 'quo et expedita modi cum officia vel magni\\ndoloribus qui repudiandae\\nvero nisi sit\\nquos veniam quod sed accusamus veritatis error'}\n",
            "{'userId': 2, 'id': 11, 'title': 'et ea vero quia laudantium autem', 'body': 'delectus reiciendis molestiae occaecati non minima eveniet qui voluptatibus\\naccusamus in eum beatae sit\\nvel qui neque voluptates ut commodi qui incidunt\\nut animi commodi'}\n",
            "{'userId': 2, 'id': 12, 'title': 'in quibusdam tempore odit est dolorem', 'body': 'itaque id aut magnam\\npraesentium quia et ea odit et ea voluptas et\\nsapiente quia nihil amet occaecati quia id voluptatem\\nincidunt ea est distinctio odio'}\n"
          ]
        }
      ]
    },
    {
      "cell_type": "markdown",
      "source": [
        "9. **Асинхронный счетчик:**\n",
        "   - Создайте асинхронный счетчик, который можно увеличивать и уменьшать из разных задач параллельно. Обеспечьте синхронный доступ к счетчику."
      ],
      "metadata": {
        "id": "6OBVsCqxLOF4"
      }
    },
    {
      "cell_type": "code",
      "source": [
        "import asyncio\n",
        "\n",
        "\n",
        "class Counter:\n",
        "    def __init__(self, speed, finish=None):\n",
        "        self.value = 0\n",
        "        self.speed = speed\n",
        "        self.finish = finish\n",
        "\n",
        "    async def increment(self):\n",
        "        self.value += 1\n",
        "        await asyncio.sleep(self.speed)\n",
        "        print('\\rСчетчик:', self.value, end='')\n",
        "\n",
        "    async def decrement(self):\n",
        "        self.value -= 1\n",
        "        await asyncio.sleep(self.speed)\n",
        "        print('\\rСчетчик:', self.value, end='')\n",
        "\n",
        "\n",
        "async def task_increment(counter):\n",
        "    while True:\n",
        "        await counter.increment()\n",
        "        if counter.finish and counter.value >= counter.finish:\n",
        "            break\n",
        "\n",
        "\n",
        "async def task_decrement(counter):\n",
        "    while True:\n",
        "        await counter.decrement()\n",
        "        if counter.finish and counter.value <= -counter.finish:\n",
        "            break\n",
        "\n",
        "\n",
        "async def main():\n",
        "    counter = Counter(0.5, 15)\n",
        "    await asyncio.gather(\n",
        "        task_decrement(counter),  # Уменьшает счетчик\n",
        "        # task_increment(counter),  # Увеличивает счетчик\n",
        "    )\n",
        "\n",
        "\n",
        "asyncio.run(main())"
      ],
      "metadata": {
        "id": "K45f9pxyLFo5",
        "colab": {
          "base_uri": "https://localhost:8080/"
        },
        "outputId": "406cb41b-f0a7-47f7-93e8-32f39675484b"
      },
      "execution_count": null,
      "outputs": [
        {
          "output_type": "stream",
          "name": "stdout",
          "text": [
            "Счетчик: -15"
          ]
        }
      ]
    },
    {
      "cell_type": "markdown",
      "source": [
        "10. **Асинхронные задачи с ожиданием завершения:**\n",
        "    - Напишите программу, где одна асинхронная задача запускает другие асинхронные задачи и ожидает их завершения. Проверьте, что задачи выполняются параллельно."
      ],
      "metadata": {
        "id": "Y8UPtbgILOgc"
      }
    },
    {
      "cell_type": "code",
      "source": [
        "import asyncio\n",
        "\n",
        "\n",
        "async def task1():\n",
        "    for i in range(100, 105):\n",
        "        await asyncio.sleep(1)\n",
        "        print(\"Задача 1, счет\", i)\n",
        "\n",
        "\n",
        "async def task2():\n",
        "    for i in range(5):\n",
        "        await asyncio.sleep(2)\n",
        "        print(\"Задача 2, счет\", i)\n",
        "\n",
        "\n",
        "async def main():\n",
        "    print(\"Основная задача запущена\")\n",
        "    await asyncio.gather(task1(), task2())\n",
        "    print(\"Основная задача завершена\")\n",
        "\n",
        "\n",
        "asyncio.run(main())"
      ],
      "metadata": {
        "id": "dBhNo6pRLFer",
        "colab": {
          "base_uri": "https://localhost:8080/"
        },
        "outputId": "7b7c67db-ab5a-475a-d6b8-5bad997b2f2b"
      },
      "execution_count": null,
      "outputs": [
        {
          "output_type": "stream",
          "name": "stdout",
          "text": [
            "Основная задача запущена\n",
            "Задача 1, счет 100\n",
            "Задача 2, счет 0\n",
            "Задача 1, счет 101\n",
            "Задача 1, счет 102\n",
            "Задача 2, счет 1\n",
            "Задача 1, счет 103\n",
            "Задача 1, счет 104\n",
            "Задача 2, счет 2\n",
            "Задача 2, счет 3\n",
            "Задача 2, счет 4\n",
            "Основная задача завершена\n"
          ]
        }
      ]
    }
  ]
}