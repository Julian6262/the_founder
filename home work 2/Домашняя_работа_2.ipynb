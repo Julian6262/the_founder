{
  "nbformat": 4,
  "nbformat_minor": 0,
  "metadata": {
    "colab": {
      "provenance": [],
      "include_colab_link": true
    },
    "kernelspec": {
      "name": "python3",
      "display_name": "Python 3"
    },
    "language_info": {
      "name": "python"
    }
  },
  "cells": [
    {
      "cell_type": "markdown",
      "metadata": {
        "id": "view-in-github",
        "colab_type": "text"
      },
      "source": [
        "<a href=\"https://colab.research.google.com/github/Julian6262/the_founder/blob/main/home%20work%202/%D0%94%D0%BE%D0%BC%D0%B0%D1%88%D0%BD%D1%8F%D1%8F_%D1%80%D0%B0%D0%B1%D0%BE%D1%82%D0%B0_2.ipynb\" target=\"_parent\"><img src=\"https://colab.research.google.com/assets/colab-badge.svg\" alt=\"Open In Colab\"/></a>"
      ]
    },
    {
      "cell_type": "markdown",
      "source": [
        "**Навигация по уроку**\n",
        "\n",
        "1. [Введение в Python. Синтаксис](https://colab.research.google.com/drive/1YBLgd6tZYlkhwpnEc4IM8tVnewLUnlUO#scrollTo=yqZjRAldfz_L)\n",
        "2. [Практика](https://colab.research.google.com/drive/1m-Ph90c-9S_gZchdG1ARoY2YjMTryKkl#scrollTo=UdxWiGmA63K2)\n",
        "3. Домашняя работа"
      ],
      "metadata": {
        "id": "ARGgA85EgS0p"
      }
    },
    {
      "cell_type": "markdown",
      "source": [
        "В домашней работе необходимо, используя знания теоретической части занятия и полученные практические навыки, решить, представленные ниже задачи. Для этого необходимо скопировать Блокнот (см. раздел 1.1.), решить в нем все задач, открыть общий доступ к Блокноту ((см. раздел 1.1.) и отправить ссылку на Блокнот куратору на проверку. Желаем удачи!"
      ],
      "metadata": {
        "id": "EdiQPIVgklWr"
      }
    },
    {
      "cell_type": "markdown",
      "source": [
        "## Задача 1. Приветствие."
      ],
      "metadata": {
        "id": "ZzjUAyrL6jgO"
      }
    },
    {
      "cell_type": "markdown",
      "source": [
        "**Условие.** Напишите программу, запрашивающую у пользователя его имя. В ответ\n",
        "на ввод на экране должно появиться приветствие с обращением по имени,\n",
        "введенному с клавиатуры ранее.\n"
      ],
      "metadata": {
        "id": "M4OAOB6s6mU7"
      }
    },
    {
      "cell_type": "markdown",
      "source": [],
      "metadata": {
        "id": "50CMy3uZNXRo"
      }
    },
    {
      "cell_type": "code",
      "source": [
        "#Напишите свое решение\n",
        "name = input('Введите имя: ')\n",
        "print('Привет,', name)"
      ],
      "metadata": {
        "id": "C2W-ZDOF6mzF"
      },
      "execution_count": null,
      "outputs": []
    },
    {
      "cell_type": "markdown",
      "source": [
        "## Задача 2. Сувениры и безделушки."
      ],
      "metadata": {
        "id": "UG8mwj2-eALV"
      }
    },
    {
      "cell_type": "markdown",
      "source": [
        "**Условие.** Интернет-магазин занимается продажей различных сувениров и безделушек. Каждый сувенир весит 75 г, а безделушка – 112 г. Напишите программу, запрашивающую у пользователя количество тех и других покупок,\n",
        "после чего выведите на экран общий вес посылки.\n"
      ],
      "metadata": {
        "id": "ay2EfeBreALW"
      }
    },
    {
      "cell_type": "code",
      "source": [
        "#Напишите свое решение\n",
        "WEIGHT_ARTICLE1 = 75\n",
        "WEIGHT_ARTICLE2 = 112\n",
        "\n",
        "article1 = int(input('Введите количество сувениров: '))\n",
        "article2 = int(input('Введите количество безделушек: '))\n",
        "\n",
        "print(f'Общий вес посылки: {WEIGHT_ARTICLE1 * article1 + WEIGHT_ARTICLE2 * article2}г')"
      ],
      "metadata": {
        "id": "WY-KRVHyeALX"
      },
      "execution_count": null,
      "outputs": []
    },
    {
      "cell_type": "markdown",
      "source": [
        "## Задача 3. Сложные проценты"
      ],
      "metadata": {
        "id": "v2IXqDTVeBfM"
      }
    },
    {
      "cell_type": "markdown",
      "source": [
        "**Условие.** Представьте, что вы открыли в банке сберегательный счет под 4 % годовых. Проценты банк рассчитывает в конце года и добавляет к сумме счета.\n",
        "Напишите программу, которая запрашивает у пользователя сумму первоначального депозита, после чего рассчитывает и выводит на экран сумму\n",
        "на счету в конце первого, второго и третьего годов. Все суммы должны\n",
        "быть округлены до двух знаков после запятой.\n",
        "\n"
      ],
      "metadata": {
        "id": "rGE3sh2ueBfN"
      }
    },
    {
      "cell_type": "code",
      "source": [
        "#Напишите свое решение\n",
        "INTEREST_RATE = 0.04\n",
        "\n",
        "deposit = int(input('Введите сумму первоначального депозита: '))\n",
        "\n",
        "per_year = deposit + deposit * INTEREST_RATE\n",
        "per_2year = per_year + per_year * INTEREST_RATE\n",
        "per_3year = per_2year + per_2year * INTEREST_RATE\n",
        "\n",
        "print('''Ваша сумма на счету:\n",
        "    - в конце первого года %.2f,\n",
        "    - в конце второго года %.2f,\n",
        "    - в конце третьего года %.2f.''' % (per_year, per_2year, per_3year))\n"
      ],
      "metadata": {
        "id": "0DYIIu98eBfN"
      },
      "execution_count": null,
      "outputs": []
    },
    {
      "cell_type": "markdown",
      "source": [
        "## Задача 4. Арифметика"
      ],
      "metadata": {
        "id": "d9y6YzAvuW4l"
      }
    },
    {
      "cell_type": "markdown",
      "source": [
        "**Условие.** Создайте программу, которая запрашивает у пользователя два целых числа a и b, после чего выводит на экран результаты следующих математических операций:\n",
        "* сумма a и b;\n",
        "* разница между a и b;\n",
        "* произведение a и b;\n",
        "* частное от деления a на b;\n",
        "* остаток от деления a на b;\n",
        "* десятичный логарифм числа a;\n",
        "* результат возведения числа a в степень b."
      ],
      "metadata": {
        "id": "ZeZZ2IrUuW4m"
      }
    },
    {
      "cell_type": "code",
      "source": [
        "#Напишите свое решение\n",
        "from math import log10\n",
        "\n",
        "a = int(input('Введите числа a: '))\n",
        "b = int(input('Введите числа b: '))\n",
        "\n",
        "print(f'a + b = {a + b}', f'a - b = {a - b}', f'a * b = {a * b}', f'a / b = {a / b}', f'a % b = {a % b}',\n",
        "      f'log10(a) = {log10(a)}', f'a ^ b = {a ** b}', sep='\\n')"
      ],
      "metadata": {
        "id": "gCbjinmpuW4m"
      },
      "execution_count": null,
      "outputs": []
    },
    {
      "cell_type": "markdown",
      "source": [
        "## Задача 5. Размен"
      ],
      "metadata": {
        "id": "EcSSCSnpeBto"
      }
    },
    {
      "cell_type": "markdown",
      "source": [
        "**Условие.** Представьте, что вы пишете программное обеспечение для автоматической кассы в  магазине самообслуживания. Одной из функций, заложенных в кассу, должен быть расчет сдачи в случае оплаты покупателем наличными.\n",
        "Напишите программу, которая будет запрашивать у пользователя сумму сдачи в копейках. После этого она должна рассчитать и вывести на экран, сколько и каких монет потребуется для выдачи указанной суммы, при условии что должно быть задействовано минимально возможное количество монет. Допустим, у нас есть в распоряжении монеты достоинством в 1, 5, 10, 50 копеек, а также в 1, 2 и 5 рублей.\n"
      ],
      "metadata": {
        "id": "VfX5FQQreBtp"
      }
    },
    {
      "cell_type": "code",
      "source": [
        "#Напишите свое решение\n",
        "change = int(input('Введите сумму сдачи в копейках: '))\n",
        "\n",
        "coins = [500, 200, 100, 50, 10, 5, 1]\n",
        "\n",
        "print('Ваша сдача:')\n",
        "for coin in coins:\n",
        "    res, change = divmod(change, coin)\n",
        "    if res:\n",
        "        print('%-10s' % (str(coin // 100) + 'р.') if coin > 99 else f'{(str(coin) + \"коп.\").ljust(10)}', f'{res}шт.')"
      ],
      "metadata": {
        "id": "4ecMH2bjeBtp",
        "colab": {
          "base_uri": "https://localhost:8080/"
        },
        "outputId": "8d88ea5f-62c4-4c57-a3c8-df81de08819c"
      },
      "execution_count": null,
      "outputs": [
        {
          "output_type": "stream",
          "name": "stdout",
          "text": [
            "Введите сумму сдачи в копейках: 456456\n",
            "Ваша сдача:\n",
            "5р.        912шт.\n",
            "2р.        2шт.\n",
            "50коп.     1шт.\n",
            "5коп.      1шт.\n",
            "1коп.      1шт.\n"
          ]
        }
      ]
    },
    {
      "cell_type": "markdown",
      "source": [
        "## Задача 6. Вчерашний хлеб"
      ],
      "metadata": {
        "id": "26soP3cfeB8i"
      }
    },
    {
      "cell_type": "markdown",
      "source": [
        "**Условие.** Пекарня продает хлеб по 49 рублей за буханку. Скидка на вчерашний хлеб составляет 60 %. Напишите программу, которая будет запрашивать у пользователя количество приобретенных вчерашних буханок хлеба. В вывод на экран должны быть включены обычная цена за буханку, цена со скидкой и общая стоимость приобретенного хлеба. Все значения должны быть выведены на отдельных строках с соответствующими описаниями. Используйте для вывода формат с двумя знаками после запятой и 5-ю знакоместами.\n"
      ],
      "metadata": {
        "id": "t-cYNmWQeB8i"
      }
    },
    {
      "cell_type": "code",
      "source": [
        "#Напишите свое решение\n",
        "PRICE = 49\n",
        "DISCOUNT = 60\n",
        "\n",
        "q = int(input('Введите количество приобретенных вчерашних буханок хлеба: '))\n",
        "discount_price = PRICE - PRICE * DISCOUNT / 100\n",
        "total = discount_price * q\n",
        "\n",
        "print('Цена за буханку:', '%5.2fр.' % PRICE)\n",
        "print(f'Цена за буханку со скидкой {DISCOUNT}%:', '%5.2fр.' % discount_price)\n",
        "print('Общая стоимость приобретенного хлеба:', '%5.2fр.' % total)"
      ],
      "metadata": {
        "id": "R2-WoQoveB8j"
      },
      "execution_count": null,
      "outputs": []
    }
  ]
}