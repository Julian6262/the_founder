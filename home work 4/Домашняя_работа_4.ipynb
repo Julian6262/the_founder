{
  "nbformat": 4,
  "nbformat_minor": 0,
  "metadata": {
    "colab": {
      "provenance": [],
      "include_colab_link": true
    },
    "kernelspec": {
      "name": "python3",
      "display_name": "Python 3"
    },
    "language_info": {
      "name": "python"
    }
  },
  "cells": [
    {
      "cell_type": "markdown",
      "metadata": {
        "id": "view-in-github",
        "colab_type": "text"
      },
      "source": [
        "<a href=\"https://colab.research.google.com/github/Julian6262/the_founder/blob/main/home%20work%204/%D0%94%D0%BE%D0%BC%D0%B0%D1%88%D0%BD%D1%8F%D1%8F_%D1%80%D0%B0%D0%B1%D0%BE%D1%82%D0%B0_4.ipynb\" target=\"_parent\"><img src=\"https://colab.research.google.com/assets/colab-badge.svg\" alt=\"Open In Colab\"/></a>"
      ]
    },
    {
      "cell_type": "markdown",
      "source": [
        "**Навигация по уроку**\n",
        "\n",
        "1. [ Функции. Классы и объекты. Програмные модули](https://colab.research.google.com/drive/1LtSAdLzWIP-xTADXIktKF9yxsh0ioEqN#scrollTo=O0dFTIuYGKI4)\n",
        "2. [Практика](https://colab.research.google.com/drive/1GblqLwJKMaNBV4cIyrbQqt7Rsf-7Bbx7)\n",
        "3. Домашняя работа"
      ],
      "metadata": {
        "id": "8LIWrmOPjBO6"
      }
    },
    {
      "cell_type": "markdown",
      "source": [
        "## Задача 1. Случайный номерной знак"
      ],
      "metadata": {
        "id": "Bh5tu_5BH-rG"
      }
    },
    {
      "cell_type": "markdown",
      "source": [
        "**Условие.** Представьте, что в вашем регионе устаревшим является формат номерных автомобильных знаков из трех букв, следом за которыми идут три цифры. Когда все номера такого шаблона закончились, было решено обновить формат, поставив в начало четыре цифры, а за ними три буквы.\n",
        "Напишите функцию, которая будет генерировать случайный номерной знак. При этом номера в старом и новом форматах должны создаваться примерно с одинаковой вероятностью. В основной программе нужно сгенерировать и вывести на экран случайный номерной знак."
      ],
      "metadata": {
        "id": "pLn92q_iLp_k"
      }
    },
    {
      "cell_type": "code",
      "execution_count": null,
      "metadata": {
        "id": "El4o9_QWeq78",
        "colab": {
          "base_uri": "https://localhost:8080/"
        },
        "outputId": "4376e333-edbd-4a3f-d28f-1aa028014944"
      },
      "outputs": [
        {
          "output_type": "stream",
          "name": "stdout",
          "text": [
            "Новый номер: 6031ССУ\n"
          ]
        }
      ],
      "source": [
        "#Напишите свое решение\n",
        "from random import randint, choice\n",
        "\n",
        "\n",
        "def get_car_number():\n",
        "    letters, car_number = [\"А\", \"В\", \"Е\", \"К\", \"М\", \"Н\", \"О\", \"Р\", \"С\", \"Т\", \"У\", \"Х\"], ''\n",
        "\n",
        "    if randint(0, 1):\n",
        "        for i in range(6):\n",
        "            car_number = car_number + (choice(letters) if i < 3 else str(randint(0, 9)))\n",
        "        return f'Старый номер: {car_number}'\n",
        "    else:\n",
        "        for i in range(7):\n",
        "            car_number = car_number + (str(randint(0, 9) if i < 4 else choice(letters)))\n",
        "        return f'Новый номер: {car_number}'\n",
        "\n",
        "\n",
        "if __name__ == \"__main__\":\n",
        "    print(get_car_number())"
      ]
    },
    {
      "cell_type": "markdown",
      "source": [
        "## Задача 2. Шестнадцатеричные и десятичные числа"
      ],
      "metadata": {
        "id": "I4wpSF3IMHdX"
      }
    },
    {
      "cell_type": "markdown",
      "source": [
        "**Условие.** Напишите две функции с  именами hex2int и  int2hex для конвертации\n",
        "значений из шестнадцатеричной системы счисления (0, 1, 2, 3, 4, 5, 6, 7, 8, 9, A, B, C, D, E и F) в десятичную (по основанию 10) и обратно. Функция hex2int должна принимать на вход строку с единственным символом в  шестнадцатеричной системе и  преобразовывать его в  число от нуля до 15 в десятичной системе, тогда как функция int2hex будет выполнять обратное действие – принимать десятичное число из диапазона от 0 до 15 и возвращать шестнадцатеричный эквивалент. Обе функции должны принимать единственный параметр со входным значением и возвращать преобразованное число. Удостоверьтесь, что функция hex2int корректно обрабатывает буквы в верхнем и нижнем регистрах. Если введенное пользователем значение выходит за допустимые границы, вы должны вывести сообщение об ошибке."
      ],
      "metadata": {
        "id": "mYg_KnVwMStB"
      }
    },
    {
      "cell_type": "code",
      "source": [
        "#Напишите свое решение\n",
        "def hex2int(n):\n",
        "    d = int(n, 16)\n",
        "    return d if 0 <= d < 16 else 'Введено неправильное значение'\n",
        "\n",
        "\n",
        "def int2hex(n):\n",
        "    d = hex(n)\n",
        "    return d if 0 <= n < 16 else 'Введено неправильное значение'\n",
        "\n",
        "\n",
        "if __name__ == \"__main__\":\n",
        "  print(hex2int('f'))\n",
        "  print(int2hex(15))"
      ],
      "metadata": {
        "id": "j4R38AofMTBX",
        "colab": {
          "base_uri": "https://localhost:8080/"
        },
        "outputId": "a9925841-f9c7-47a4-d158-c24c0af17dcf"
      },
      "execution_count": null,
      "outputs": [
        {
          "output_type": "stream",
          "name": "stdout",
          "text": [
            "15\n",
            "0xf\n"
          ]
        }
      ]
    },
    {
      "cell_type": "markdown",
      "source": [
        "## Задача 3. Беспилотный автомобиль"
      ],
      "metadata": {
        "id": "RIOKyPjlMZA_"
      }
    },
    {
      "cell_type": "markdown",
      "source": [
        "**Условие.** Это творческая задача. Представьте, что вы проектируете беспилотный автомобиль. Вам необходимо продумать, какими свойствами он обладает и какие действия совершает. Создайте класс беспилотный автомобиль и сохраните его в виде программного модуля. Импортируете класс и инициализируйте новый объект.  "
      ],
      "metadata": {
        "id": "OlVQTKYrMZBA"
      }
    },
    {
      "cell_type": "code",
      "source": [
        "#Напишите свое решение\n",
        "%%writefile car.py\n",
        "\n",
        "class Car(object):\n",
        "    Name_class = 'Беспилотный Автомобиль'\n",
        "\n",
        "    def __init__(self, brand, weight, power, energy):\n",
        "        self.brand = brand\n",
        "        self.weight = weight\n",
        "        self.power = power\n",
        "        self.energy = energy\n",
        "\n",
        "    def test_systems(self):\n",
        "        print(\"Проверка систем\")\n",
        "\n",
        "    def lights(self):\n",
        "        print(\"Включить габариты\")\n",
        "\n",
        "    def drive(self):\n",
        "        print(\"Двигаемся прямо!\")\n",
        "\n",
        "    def brake(self):\n",
        "        print(\"Активируем тормоз\")\n",
        "\n",
        "    def beep(self):\n",
        "        print(\"Звуковой сигнал\")"
      ],
      "metadata": {
        "id": "U2JxR4KOMZBA",
        "colab": {
          "base_uri": "https://localhost:8080/"
        },
        "outputId": "5b371533-989e-4b5c-a01f-f18dd601a294"
      },
      "execution_count": null,
      "outputs": [
        {
          "output_type": "stream",
          "name": "stdout",
          "text": [
            "Overwriting car.py\n"
          ]
        }
      ]
    },
    {
      "cell_type": "code",
      "source": [
        "from car import Car\n",
        "\n",
        "if __name__ == \"__main__\":\n",
        "    car1 = Car('Москвич', 2500, 500, 700)\n",
        "    print('Экземпляр класса', car1.Name_class)\n",
        "    print('Марка -', car1.brand)\n",
        "    print('Вес (кг) -', car1.weight)\n",
        "    print('Мощность двигателя (лс) -', car1.power)\n",
        "    print('Запас хода (км) -', car1.energy)\n",
        "    car1.test_systems()\n",
        "    car1.lights()\n",
        "    car1.brake()\n",
        "\n",
        "    print()\n",
        "    car2 = Car('Волга', 3000, 300, 800)\n",
        "    print('Экземпляр класса', car2.Name_class)\n",
        "    print('Марка -', car2.brand)\n",
        "    print('Вес (кг) -', car2.weight)\n",
        "    print('Мощность двигателя (лс) -', car2.power)\n",
        "    print('Запас хода (км) -', car2.energy)\n",
        "    car2.beep()"
      ],
      "metadata": {
        "id": "d0cG666eY6Jf",
        "colab": {
          "base_uri": "https://localhost:8080/"
        },
        "outputId": "c104d1c7-34ef-4e82-ffa2-2a8c8656576a"
      },
      "execution_count": null,
      "outputs": [
        {
          "output_type": "stream",
          "name": "stdout",
          "text": [
            "Экземпляр класса Беспилотный Автомобиль\n",
            "Марка - Москвич\n",
            "Вес (кг) - 2500\n",
            "Мощность двигателя (лс) - 500\n",
            "Запас хода (км) - 700\n",
            "Проверка систем\n",
            "Включить габариты\n",
            "Активируем тормоз\n",
            "\n",
            "Экземпляр класса Беспилотный Автомобиль\n",
            "Марка - Волга\n",
            "Вес (кг) - 3000\n",
            "Мощность двигателя (лс) - 300\n",
            "Запас хода (км) - 800\n",
            "Звуковой сигнал\n"
          ]
        }
      ]
    }
  ]
}