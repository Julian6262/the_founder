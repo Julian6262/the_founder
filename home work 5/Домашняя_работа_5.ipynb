{
  "nbformat": 4,
  "nbformat_minor": 0,
  "metadata": {
    "colab": {
      "provenance": [],
      "include_colab_link": true
    },
    "kernelspec": {
      "name": "python3",
      "display_name": "Python 3"
    },
    "language_info": {
      "name": "python"
    }
  },
  "cells": [
    {
      "cell_type": "markdown",
      "metadata": {
        "id": "view-in-github",
        "colab_type": "text"
      },
      "source": [
        "<a href=\"https://colab.research.google.com/github/Julian6262/the_founder/blob/main/home%20work%205/%D0%94%D0%BE%D0%BC%D0%B0%D1%88%D0%BD%D1%8F%D1%8F_%D1%80%D0%B0%D0%B1%D0%BE%D1%82%D0%B0_5.ipynb\" target=\"_parent\"><img src=\"https://colab.research.google.com/assets/colab-badge.svg\" alt=\"Open In Colab\"/></a>"
      ]
    },
    {
      "cell_type": "markdown",
      "source": [
        "**Навигация по уроку**\n",
        "\n",
        "1. [Нейронные сети. Математическая модель нейрона.](https://colab.research.google.com/drive/1XXxO2vyd9IDYT23tQrVMAAYeHYn-Awww)\n",
        "2. [Нейронные сети. Функции активации](https://colab.research.google.com/drive/1mhEEhb3mdE5mKFIvOiC5tHvkPiWD8DBj)\n",
        "3. Домашняя работа"
      ],
      "metadata": {
        "id": "8LIWrmOPjBO6"
      }
    },
    {
      "cell_type": "markdown",
      "source": [
        "## Задача 1. Класс Neuron"
      ],
      "metadata": {
        "id": "B5IghQAm20sG"
      }
    },
    {
      "cell_type": "markdown",
      "source": [],
      "metadata": {
        "id": "vZYBSQR4799Z"
      }
    },
    {
      "cell_type": "markdown",
      "source": [
        "**Условие** Используя примеры из теоретической части 5.1 и 5.2, составьте класс Neuron модели нейрона, принимающего на вход от одного до 10 входных параметров. Для последнего параметра используется вес $x_n$ = 1, таким образом $w_n=b$ - является смещением. Запрещается пользоваться библиотекой numpy. На вход подается список. Матричное умножение реализуется с помощью циклов самостоятельно. Класс содержит методы для вычисления взвешенной суммы, а также содержит функции активации из урока."
      ],
      "metadata": {
        "id": "BxRUPNKFrxow"
      }
    },
    {
      "cell_type": "code",
      "execution_count": null,
      "metadata": {
        "id": "El4o9_QWeq78",
        "colab": {
          "base_uri": "https://localhost:8080/"
        },
        "outputId": "fad2a132-999f-43b9-d010-cafdae4643ff"
      },
      "outputs": [
        {
          "output_type": "stream",
          "name": "stdout",
          "text": [
            "Ведите от 1го до 10ти входных параметров подряд, без запятых и пробелов:10011000\n",
            "Xi = [1, 0, 0, 1, 1, 0, 0, 0]\n",
            "Wi = [2, 1, 1, 2, 2, 1, 2, 1]\n",
            "S = 3\n",
            "heaviside = 1\n",
            "sigmoid = 0.9525741268224334\n",
            "ReLU = 3\n",
            "LeakyReLU = 3\n",
            "ELU = 3\n"
          ]
        }
      ],
      "source": [
        "#Напишите свое решение\n",
        "from math import exp\n",
        "from random import randint\n",
        "\n",
        "\n",
        "class Neuron:\n",
        "    def __init__(self, w, bias):\n",
        "        self.w = w\n",
        "        self.bias = bias\n",
        "\n",
        "    def y(self, x):\n",
        "        s = sum(i * k for i, k in zip(self.w, x)) - self.bias\n",
        "        return s\n",
        "\n",
        "    def heaviside(self, x):\n",
        "        return 1 if x >= 0 else 0\n",
        "\n",
        "    def sigmoid(self, x, alpha=1):\n",
        "        return 1 / (1 + exp(-alpha * x))\n",
        "\n",
        "    def ReLU(self, x):\n",
        "        return x if x > 0 else 0\n",
        "\n",
        "    def LeakyReLU(self, x, alpha=0.1):\n",
        "        return x if x > 0 else x * alpha\n",
        "\n",
        "    def ELU(self, x, alpha=0.1):\n",
        "        return x if x > 0 else alpha * (exp(x) - 1)\n",
        "\n",
        "\n",
        "Xi = list(map(int, input(\"Ведите от 1го до 10ти входных параметров подряд, без запятых и пробелов:\")))\n",
        "if not Xi or len(Xi) > 10:\n",
        "    raise Exception('Введено неверное количество входных параметров')\n",
        "\n",
        "Wi = [randint(0, 3) for _ in range(len(Xi))]\n",
        "\n",
        "bias = 3\n",
        "n = Neuron(Wi, bias)\n",
        "\n",
        "S = n.y(Xi)\n",
        "print('Xi =', Xi)\n",
        "print('Wi =', Wi)\n",
        "print('S =', S)\n",
        "print('heaviside =', n.heaviside(S))\n",
        "print('sigmoid =', n.sigmoid(S))\n",
        "print('ReLU =', n.ReLU(S))\n",
        "print('LeakyReLU =', n.LeakyReLU(S))\n",
        "print('ELU =', n.ELU(S))"
      ]
    },
    {
      "cell_type": "markdown",
      "source": [
        "## Задача 2. Класс Neuron (продолжение)"
      ],
      "metadata": {
        "id": "BXPoR8av3AUx"
      }
    },
    {
      "cell_type": "markdown",
      "source": [
        "**Условие.** Используя класс Neuron из первой задачи, придумать свой пример на принятие решения (по аналогии с задачей \"о рыбаке и рыбке\"), не менее 4 входных параметров, веса установить произвольно из логики задачи, произвести расчёт функций активаций, определённых в классе первой задачи."
      ],
      "metadata": {
        "id": "KLC5Gv3L3CP_"
      }
    },
    {
      "cell_type": "markdown",
      "source": [
        "Задача \"Покупка машины\":\\\n",
        "X1 - полный привод\\\n",
        "X2 - коробка автомат\\\n",
        "X3 - подогрев задних сидений\\\n",
        "X4 - каско в подарок\\\n",
        "X5 - спущенные колеса\\\n",
        "X6 - царапина"
      ],
      "metadata": {
        "id": "E5uIGLle2nLG"
      }
    },
    {
      "cell_type": "code",
      "source": [
        "from math import exp\n",
        "\n",
        "\n",
        "class Neuron:\n",
        "    def __init__(self, w, bias):\n",
        "        self.w = w\n",
        "        self.bias = bias\n",
        "\n",
        "    def y(self, x):\n",
        "        s = sum(i * k for i, k in zip(self.w, x)) - self.bias\n",
        "        return s\n",
        "\n",
        "    def heaviside(self, x):\n",
        "        return 1 if x >= 0 else 0\n",
        "\n",
        "    def sigmoid(self, x, alpha=1):\n",
        "        return 1 / (1 + exp(-alpha * x))\n",
        "\n",
        "    def ReLU(self, x):\n",
        "        return x if x > 0 else 0\n",
        "\n",
        "    def LeakyReLU(self, x, alpha=0.1):\n",
        "        return x if x > 0 else x * alpha\n",
        "\n",
        "    def ELU(self, x, alpha=0.1):\n",
        "        return x if x > 0 else alpha * (exp(x) - 1)\n",
        "\n",
        "\n",
        "# X1 - полный привод (0 - отсутствует, 1 - присутствует)\n",
        "# X2 - коробка автомат (0 - отсутствует, 1 - присутствует)\n",
        "# X3 - подогрев задних сидений (0 - отсутствует, 1 - присутствует)\n",
        "# X4 - каско в подарок (0 - отсутствует, 1 - присутствует)\n",
        "# X5 - спущенные колеса (0 - отсутствует, 1 - присутствует)\n",
        "# X6 - царапина (0 - отсутствует, 1 - присутствует)\n",
        "\n",
        "Xi = [1, 1, 1, 0, 1, 0]\n",
        "Wi = [3, 3, 1, 2, -3, -2]\n",
        "\n",
        "bias = 3\n",
        "n = Neuron(Wi, bias)\n",
        "\n",
        "S = n.y(Xi)\n",
        "print('Xi =', Xi)\n",
        "print('Wi =', Wi)\n",
        "print('S =', S)\n",
        "\n",
        "heaviside = n.heaviside(S)\n",
        "print('heaviside =', heaviside, end=': ')\n",
        "print(\"Покупаем\" if heaviside else \"Не покупаем\")\n",
        "\n",
        "sigmoid = n.sigmoid(S)\n",
        "print('sigmoid =', sigmoid, end=': ')\n",
        "print(\"Покупаем\" if sigmoid >= 0.5 else \"Не покупаем\")\n",
        "\n",
        "ReLU = n.ReLU(S)\n",
        "print('ReLU =', ReLU, end=': ')\n",
        "print(\"Покупаем\" if ReLU > 0 else \"Не покупаем\")\n",
        "\n",
        "LeakyReLU = n.LeakyReLU(S)\n",
        "print('LeakyReLU =', LeakyReLU, end=': ')\n",
        "print(\"Покупаем\" if LeakyReLU > 0 else \"Не покупаем\")\n",
        "\n",
        "ELU = n.ELU(S)\n",
        "print('ELU =', ELU, end=': ')\n",
        "print(\"Покупаем\" if ELU > 0 else \"Не покупаем\")\n",
        "\n",
        "\n"
      ],
      "metadata": {
        "id": "yr-i4FFg3DAf",
        "colab": {
          "base_uri": "https://localhost:8080/"
        },
        "outputId": "023a8eac-02ad-4c18-dab2-35ea1a2bb4ce"
      },
      "execution_count": null,
      "outputs": [
        {
          "output_type": "stream",
          "name": "stdout",
          "text": [
            "Xi = [1, 1, 1, 0, 1, 0]\n",
            "Wi = [3, 3, 1, 2, -3, -2]\n",
            "S = 1\n",
            "heaviside = 1: Покупаем\n",
            "sigmoid = 0.7310585786300049: Покупаем\n",
            "ReLU = 1: Покупаем\n",
            "LeakyReLU = 1: Покупаем\n",
            "ELU = 1: Покупаем\n"
          ]
        }
      ]
    }
  ]
}