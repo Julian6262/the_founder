{
  "nbformat": 4,
  "nbformat_minor": 0,
  "metadata": {
    "colab": {
      "provenance": [],
      "include_colab_link": true
    },
    "kernelspec": {
      "name": "python3",
      "display_name": "Python 3"
    },
    "language_info": {
      "name": "python"
    }
  },
  "cells": [
    {
      "cell_type": "markdown",
      "metadata": {
        "id": "view-in-github",
        "colab_type": "text"
      },
      "source": [
        "<a href=\"https://colab.research.google.com/github/Julian6262/the_founder/blob/main/home%20work%206/%D0%94%D0%BE%D0%BC%D0%B0%D1%88%D0%BD%D1%8F%D1%8F_%D1%80%D0%B0%D0%B1%D0%BE%D1%82%D0%B0_6.ipynb\" target=\"_parent\"><img src=\"https://colab.research.google.com/assets/colab-badge.svg\" alt=\"Open In Colab\"/></a>"
      ]
    },
    {
      "cell_type": "markdown",
      "source": [
        "**Навигация по уроку**\n",
        "\n",
        "1. [Введение в Data Science](https://colab.research.google.com/drive/1OzEE1Y-T_p8rqJHxAm7S8iO76Hx6Jox3)\n",
        "2. [Практика](https://colab.research.google.com/drive/1sPc9RcTh9oMzyLffhNorD-Hh2kQlMhCC)\n",
        "3. Домашняя работа"
      ],
      "metadata": {
        "id": "8LIWrmOPjBO6"
      }
    },
    {
      "cell_type": "markdown",
      "source": [
        "## Задача 1. Книги без буквы E."
      ],
      "metadata": {
        "id": "ZzjUAyrL6jgO"
      }
    },
    {
      "cell_type": "markdown",
      "source": [
        "**Условие.** В истории литературы известен случай написания романа объемом около\n",
        "50 тыс. слов, в котором ни разу не была употреблена самая популярная\n",
        "в английском алфавите буква E. Название его – «Gadsby».\n",
        "Напишите программу, которая будет считывать список слов из файла и собирать статистику о том, в каком проценте слов используется каждая буква алфавита. Выведите результат для всех 26 букв английского алфавита и отдельно отметьте букву, которая встречалась в словах наиболее редко. В  вашей программе должны игнорироваться знаки препинания и регистр символов.\n"
      ],
      "metadata": {
        "id": "M4OAOB6s6mU7"
      }
    },
    {
      "cell_type": "markdown",
      "source": [
        "**Подсказки.**\n",
        "1. Переведите все слова в верхний регистр:\n",
        "```\n",
        "word = word.upper().rstrip() # upper - переводит строку в верхний регистр\n",
        "```\n",
        "2. Создайте словарь со счетчиком слов, содержащий каждую букву\n",
        "```\n",
        "# Для каждой буквы инициализируем счетчик нулем\n",
        "counts = {}\n",
        "for ch in \"ABCDEFGHIJKLMNOPQRSTUVWXYZ\":\n",
        "       counts[ch] = 0\n",
        "```\n",
        "3. Наиболее редко используемое слово можно найти следующим образом:\n",
        "```\n",
        "smallest_count = min(counts.values()) # min - возвращает наименьшее число в списке\n",
        "```"
      ],
      "metadata": {
        "id": "1X5QIF1nryYd"
      }
    },
    {
      "cell_type": "code",
      "source": [
        "from collections import Counter\n",
        "\n",
        "counts, count = Counter(), 0\n",
        "\n",
        "with open('test.txt', 'r') as f:\n",
        "    for line in f:\n",
        "        for word in line.split():\n",
        "            s = {j.upper() for j in word if j.isalpha()}\n",
        "            if s:\n",
        "                counts.update(s)\n",
        "                count += 1\n",
        "\n",
        "counts.update({}.fromkeys(\"ABCDEFGHIJKLMNOPQRSTUVWXYZ\", 0))  # добавляем в словарь буквы, которые не встретились в тексте\n",
        "\n",
        "print('Всего слов:', count)\n",
        "print('Наиболее редкая буква:', [i for i, k in counts.most_common() if k == min(counts.values())])\n",
        "print('В каком проценте слов используется следующая буква:')\n",
        "for k, i in counts.items():\n",
        "    print('%s: %.2f' % (k, i * 100 / count))"
      ],
      "metadata": {
        "id": "C2W-ZDOF6mzF",
        "colab": {
          "base_uri": "https://localhost:8080/"
        },
        "outputId": "ec8df306-d09a-4095-b0af-0e920ed656f4"
      },
      "execution_count": null,
      "outputs": [
        {
          "output_type": "stream",
          "name": "stdout",
          "text": [
            "Всего слов: 103\n",
            "Наиболее редкая буква: ['J', 'X', 'Z']\n",
            "В каком проценте слов используется следующая буква:\n",
            "N: 24.27\n",
            "A: 44.66\n",
            "C: 10.68\n",
            "U: 7.77\n",
            "O: 30.10\n",
            "Y: 6.80\n",
            "L: 11.65\n",
            "E: 43.69\n",
            "S: 22.33\n",
            "P: 13.59\n",
            "V: 7.77\n",
            "I: 21.36\n",
            "R: 17.48\n",
            "T: 34.95\n",
            "H: 22.33\n",
            "G: 8.74\n",
            "D: 19.42\n",
            "W: 10.68\n",
            "M: 6.80\n",
            "B: 3.88\n",
            "K: 5.83\n",
            "F: 3.88\n",
            "Q: 0.97\n",
            "J: 0.00\n",
            "X: 0.00\n",
            "Z: 0.00\n"
          ]
        }
      ]
    },
    {
      "cell_type": "markdown",
      "source": [
        "## Задание 2. Веб-скрейпинг ИИ новостей"
      ],
      "metadata": {
        "id": "m5K8F02cbJ3c"
      }
    },
    {
      "cell_type": "markdown",
      "source": [
        "**Описание задания.** Используя пример веб-скрейпинга практической части урока, проведите скрейпинг сайта с новостями из сферы ИИ (https://2051.vision/category/ii/), выведите на экран заголовки новостей."
      ],
      "metadata": {
        "id": "LPb3n5UqbRAD"
      }
    },
    {
      "cell_type": "code",
      "source": [
        "#Напишите свое решение\n",
        "from bs4 import BeautifulSoup\n",
        "import requests\n",
        "\n",
        "url = (\"https://2051.vision/category/ii/\")\n",
        "html = requests.get(url).text  # Извлекаем из тела ответа текстовые данные\n",
        "soup = BeautifulSoup(html, 'html5lib')\n",
        "\n",
        "top_news = soup.find_all('h3', class_='entry-title')\n",
        "filteredNews = []\n",
        "\n",
        "for data in top_news:\n",
        "    if data.find('a') is not None:\n",
        "        filteredNews.append(data.text.strip())\n",
        "\n",
        "for i, news in enumerate(filteredNews):\n",
        "    print(i + 1, news)"
      ],
      "metadata": {
        "id": "E2UFxRjFi_aW",
        "colab": {
          "base_uri": "https://localhost:8080/"
        },
        "outputId": "8a80e74d-9895-489e-f3d3-acededed2238"
      },
      "execution_count": null,
      "outputs": [
        {
          "output_type": "stream",
          "name": "stdout",
          "text": [
            "1 Google запустила AI Studio\n",
            "2 В бразильском Порту-Аллегри отменили плату за установку счетчиков воды взамен украденных\n",
            "3 Страны — члены ЕС и Европарламент согласовали первый в мире закон, регулирующий ИИ\n",
            "4 Google врывается на рынок ИИ с целым семейством моделей Gemini\n",
            "5 40 компаний создали AI Alliance\n",
            "6 ChatGPT давал более развернутые ответы, если ему обещали денег\n",
            "7 Filatov & Karas создали трек и музыкальный клип совместно с искусственным интеллектом Сбера\n",
            "8 Сэма Альтмана уволили из-за ИИ, угрожающего человечеству?\n",
            "9 Вадим Кондаратцев: «Надеюсь, что к 2030 году с помощью нейросетей мы сможем проектировать самолеты»\n",
            "10 Вкус будущего? Мы попробовали колу Y3000, разработанную искусственный интеллектом\n",
            "11 Европейское космическое агентство разрабатывает технологию аэрозахвата\n",
            "12 Blue Origin успешно запустила суборбитальный корабль\n",
            "13 Великие обсерватории: «Комптон» — live fast, die young\n",
            "14 Беседа с китом поможет понять инопланетян\n"
          ]
        }
      ]
    }
  ]
}