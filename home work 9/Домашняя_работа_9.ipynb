{
  "nbformat": 4,
  "nbformat_minor": 0,
  "metadata": {
    "colab": {
      "provenance": [],
      "include_colab_link": true
    },
    "kernelspec": {
      "name": "python3",
      "display_name": "Python 3"
    },
    "language_info": {
      "name": "python"
    },
    "widgets": {
      "application/vnd.jupyter.widget-state+json": {
        "5587bbcc2dd44211a05cf96486fdeb05": {
          "model_module": "@jupyter-widgets/controls",
          "model_name": "HBoxModel",
          "model_module_version": "1.5.0",
          "state": {
            "_dom_classes": [],
            "_model_module": "@jupyter-widgets/controls",
            "_model_module_version": "1.5.0",
            "_model_name": "HBoxModel",
            "_view_count": null,
            "_view_module": "@jupyter-widgets/controls",
            "_view_module_version": "1.5.0",
            "_view_name": "HBoxView",
            "box_style": "",
            "children": [
              "IPY_MODEL_1ef4b1760bf443b68530552901adaa97",
              "IPY_MODEL_db92bf3edd654e69b7ad33c6b5b34a9c",
              "IPY_MODEL_3496411a2bd04388865346ef1004c83d"
            ],
            "layout": "IPY_MODEL_cb7be559e0744656ad15830de994764c"
          }
        },
        "1ef4b1760bf443b68530552901adaa97": {
          "model_module": "@jupyter-widgets/controls",
          "model_name": "HTMLModel",
          "model_module_version": "1.5.0",
          "state": {
            "_dom_classes": [],
            "_model_module": "@jupyter-widgets/controls",
            "_model_module_version": "1.5.0",
            "_model_name": "HTMLModel",
            "_view_count": null,
            "_view_module": "@jupyter-widgets/controls",
            "_view_module_version": "1.5.0",
            "_view_name": "HTMLView",
            "description": "",
            "description_tooltip": null,
            "layout": "IPY_MODEL_d800585935084554b777a025da3a899c",
            "placeholder": "​",
            "style": "IPY_MODEL_84dda1c5443f4a5ca9a531594199689a",
            "value": "Dl Completed...: 100%"
          }
        },
        "db92bf3edd654e69b7ad33c6b5b34a9c": {
          "model_module": "@jupyter-widgets/controls",
          "model_name": "FloatProgressModel",
          "model_module_version": "1.5.0",
          "state": {
            "_dom_classes": [],
            "_model_module": "@jupyter-widgets/controls",
            "_model_module_version": "1.5.0",
            "_model_name": "FloatProgressModel",
            "_view_count": null,
            "_view_module": "@jupyter-widgets/controls",
            "_view_module_version": "1.5.0",
            "_view_name": "ProgressView",
            "bar_style": "success",
            "description": "",
            "description_tooltip": null,
            "layout": "IPY_MODEL_d070c80df3ba49f9bceaebab2537bc65",
            "max": 5,
            "min": 0,
            "orientation": "horizontal",
            "style": "IPY_MODEL_ff35d74448204163b9edf5de3632eb19",
            "value": 5
          }
        },
        "3496411a2bd04388865346ef1004c83d": {
          "model_module": "@jupyter-widgets/controls",
          "model_name": "HTMLModel",
          "model_module_version": "1.5.0",
          "state": {
            "_dom_classes": [],
            "_model_module": "@jupyter-widgets/controls",
            "_model_module_version": "1.5.0",
            "_model_name": "HTMLModel",
            "_view_count": null,
            "_view_module": "@jupyter-widgets/controls",
            "_view_module_version": "1.5.0",
            "_view_name": "HTMLView",
            "description": "",
            "description_tooltip": null,
            "layout": "IPY_MODEL_3ef0114c498146db93d58a3f1b0da05c",
            "placeholder": "​",
            "style": "IPY_MODEL_8cc25bbc0f2942268968808e7dbb0122",
            "value": " 5/5 [00:00&lt;00:00, 11.12 file/s]"
          }
        },
        "cb7be559e0744656ad15830de994764c": {
          "model_module": "@jupyter-widgets/base",
          "model_name": "LayoutModel",
          "model_module_version": "1.2.0",
          "state": {
            "_model_module": "@jupyter-widgets/base",
            "_model_module_version": "1.2.0",
            "_model_name": "LayoutModel",
            "_view_count": null,
            "_view_module": "@jupyter-widgets/base",
            "_view_module_version": "1.2.0",
            "_view_name": "LayoutView",
            "align_content": null,
            "align_items": null,
            "align_self": null,
            "border": null,
            "bottom": null,
            "display": null,
            "flex": null,
            "flex_flow": null,
            "grid_area": null,
            "grid_auto_columns": null,
            "grid_auto_flow": null,
            "grid_auto_rows": null,
            "grid_column": null,
            "grid_gap": null,
            "grid_row": null,
            "grid_template_areas": null,
            "grid_template_columns": null,
            "grid_template_rows": null,
            "height": null,
            "justify_content": null,
            "justify_items": null,
            "left": null,
            "margin": null,
            "max_height": null,
            "max_width": null,
            "min_height": null,
            "min_width": null,
            "object_fit": null,
            "object_position": null,
            "order": null,
            "overflow": null,
            "overflow_x": null,
            "overflow_y": null,
            "padding": null,
            "right": null,
            "top": null,
            "visibility": null,
            "width": null
          }
        },
        "d800585935084554b777a025da3a899c": {
          "model_module": "@jupyter-widgets/base",
          "model_name": "LayoutModel",
          "model_module_version": "1.2.0",
          "state": {
            "_model_module": "@jupyter-widgets/base",
            "_model_module_version": "1.2.0",
            "_model_name": "LayoutModel",
            "_view_count": null,
            "_view_module": "@jupyter-widgets/base",
            "_view_module_version": "1.2.0",
            "_view_name": "LayoutView",
            "align_content": null,
            "align_items": null,
            "align_self": null,
            "border": null,
            "bottom": null,
            "display": null,
            "flex": null,
            "flex_flow": null,
            "grid_area": null,
            "grid_auto_columns": null,
            "grid_auto_flow": null,
            "grid_auto_rows": null,
            "grid_column": null,
            "grid_gap": null,
            "grid_row": null,
            "grid_template_areas": null,
            "grid_template_columns": null,
            "grid_template_rows": null,
            "height": null,
            "justify_content": null,
            "justify_items": null,
            "left": null,
            "margin": null,
            "max_height": null,
            "max_width": null,
            "min_height": null,
            "min_width": null,
            "object_fit": null,
            "object_position": null,
            "order": null,
            "overflow": null,
            "overflow_x": null,
            "overflow_y": null,
            "padding": null,
            "right": null,
            "top": null,
            "visibility": null,
            "width": null
          }
        },
        "84dda1c5443f4a5ca9a531594199689a": {
          "model_module": "@jupyter-widgets/controls",
          "model_name": "DescriptionStyleModel",
          "model_module_version": "1.5.0",
          "state": {
            "_model_module": "@jupyter-widgets/controls",
            "_model_module_version": "1.5.0",
            "_model_name": "DescriptionStyleModel",
            "_view_count": null,
            "_view_module": "@jupyter-widgets/base",
            "_view_module_version": "1.2.0",
            "_view_name": "StyleView",
            "description_width": ""
          }
        },
        "d070c80df3ba49f9bceaebab2537bc65": {
          "model_module": "@jupyter-widgets/base",
          "model_name": "LayoutModel",
          "model_module_version": "1.2.0",
          "state": {
            "_model_module": "@jupyter-widgets/base",
            "_model_module_version": "1.2.0",
            "_model_name": "LayoutModel",
            "_view_count": null,
            "_view_module": "@jupyter-widgets/base",
            "_view_module_version": "1.2.0",
            "_view_name": "LayoutView",
            "align_content": null,
            "align_items": null,
            "align_self": null,
            "border": null,
            "bottom": null,
            "display": null,
            "flex": null,
            "flex_flow": null,
            "grid_area": null,
            "grid_auto_columns": null,
            "grid_auto_flow": null,
            "grid_auto_rows": null,
            "grid_column": null,
            "grid_gap": null,
            "grid_row": null,
            "grid_template_areas": null,
            "grid_template_columns": null,
            "grid_template_rows": null,
            "height": null,
            "justify_content": null,
            "justify_items": null,
            "left": null,
            "margin": null,
            "max_height": null,
            "max_width": null,
            "min_height": null,
            "min_width": null,
            "object_fit": null,
            "object_position": null,
            "order": null,
            "overflow": null,
            "overflow_x": null,
            "overflow_y": null,
            "padding": null,
            "right": null,
            "top": null,
            "visibility": null,
            "width": null
          }
        },
        "ff35d74448204163b9edf5de3632eb19": {
          "model_module": "@jupyter-widgets/controls",
          "model_name": "ProgressStyleModel",
          "model_module_version": "1.5.0",
          "state": {
            "_model_module": "@jupyter-widgets/controls",
            "_model_module_version": "1.5.0",
            "_model_name": "ProgressStyleModel",
            "_view_count": null,
            "_view_module": "@jupyter-widgets/base",
            "_view_module_version": "1.2.0",
            "_view_name": "StyleView",
            "bar_color": null,
            "description_width": ""
          }
        },
        "3ef0114c498146db93d58a3f1b0da05c": {
          "model_module": "@jupyter-widgets/base",
          "model_name": "LayoutModel",
          "model_module_version": "1.2.0",
          "state": {
            "_model_module": "@jupyter-widgets/base",
            "_model_module_version": "1.2.0",
            "_model_name": "LayoutModel",
            "_view_count": null,
            "_view_module": "@jupyter-widgets/base",
            "_view_module_version": "1.2.0",
            "_view_name": "LayoutView",
            "align_content": null,
            "align_items": null,
            "align_self": null,
            "border": null,
            "bottom": null,
            "display": null,
            "flex": null,
            "flex_flow": null,
            "grid_area": null,
            "grid_auto_columns": null,
            "grid_auto_flow": null,
            "grid_auto_rows": null,
            "grid_column": null,
            "grid_gap": null,
            "grid_row": null,
            "grid_template_areas": null,
            "grid_template_columns": null,
            "grid_template_rows": null,
            "height": null,
            "justify_content": null,
            "justify_items": null,
            "left": null,
            "margin": null,
            "max_height": null,
            "max_width": null,
            "min_height": null,
            "min_width": null,
            "object_fit": null,
            "object_position": null,
            "order": null,
            "overflow": null,
            "overflow_x": null,
            "overflow_y": null,
            "padding": null,
            "right": null,
            "top": null,
            "visibility": null,
            "width": null
          }
        },
        "8cc25bbc0f2942268968808e7dbb0122": {
          "model_module": "@jupyter-widgets/controls",
          "model_name": "DescriptionStyleModel",
          "model_module_version": "1.5.0",
          "state": {
            "_model_module": "@jupyter-widgets/controls",
            "_model_module_version": "1.5.0",
            "_model_name": "DescriptionStyleModel",
            "_view_count": null,
            "_view_module": "@jupyter-widgets/base",
            "_view_module_version": "1.2.0",
            "_view_name": "StyleView",
            "description_width": ""
          }
        }
      }
    }
  },
  "cells": [
    {
      "cell_type": "markdown",
      "metadata": {
        "id": "view-in-github",
        "colab_type": "text"
      },
      "source": [
        "<a href=\"https://colab.research.google.com/github/Julian6262/the_founder/blob/main/home%20work%209/%D0%94%D0%BE%D0%BC%D0%B0%D1%88%D0%BD%D1%8F%D1%8F_%D1%80%D0%B0%D0%B1%D0%BE%D1%82%D0%B0_9.ipynb\" target=\"_parent\"><img src=\"https://colab.research.google.com/assets/colab-badge.svg\" alt=\"Open In Colab\"/></a>"
      ]
    },
    {
      "cell_type": "markdown",
      "source": [
        "**Навигация по уроку**\n",
        "\n",
        "1. [Краткая история нейронных сетей. Знакомство с многослойным персептроном](https://colab.research.google.com/drive/1-FEYLgNSN5kJyAOoaW9dOhDUABU8VJlc)\n",
        "2. [Математический аппарат обучения нейронных сетей](https://colab.research.google.com/drive/1FtyyBXYq9FaOEknvu4ghim-ejuO_3aIZ)\n",
        "3. [Обучение многослойного персептрона в TensorFlow (Практика)](https://colab.research.google.com/drive/1Q8ioc9pkkaqGravu37C7jKw9OaG7cNL0)\n",
        "4. Домашняя работа"
      ],
      "metadata": {
        "id": "8LIWrmOPjBO6"
      }
    },
    {
      "cell_type": "markdown",
      "source": [
        "Используя модель обучения многослойного персептрона из практической части урока (9.3), выполните следующее:\n",
        "\n",
        "1. Увеличьте число слоев до 4-х и сравните время обучения модели и точность на тестовой выборке. За выполнение задания - 2 балла.\n",
        "2. В качестве датасета использовать любой из наборов данных TensorFlow. Обучить модель. Добейтесь результата распознования более 85% на тестовой выборке. [Датасеты на выбор](https://www.tensorflow.org/datasets/overview). За задание дополнительно - 3 балла.\n",
        "\n",
        "Для прохождения урока достаточно решить первое задание."
      ],
      "metadata": {
        "id": "apk45uj2fGer"
      }
    },
    {
      "cell_type": "markdown",
      "source": [
        "#####  **1. Увеличьте число слоев до 4-х и сравните время обучения модели и точность на тестовой выборке. За выполнение задания - 2 балла.**"
      ],
      "metadata": {
        "id": "ucKboMxy59be"
      }
    },
    {
      "cell_type": "code",
      "source": [
        "import time\n",
        "import tensorflow as tf\n",
        "import tensorflow_datasets as tfds"
      ],
      "metadata": {
        "id": "m5crIuV3dAGA"
      },
      "execution_count": null,
      "outputs": []
    },
    {
      "cell_type": "markdown",
      "source": [
        "Инициализация функций/классов"
      ],
      "metadata": {
        "id": "JkFgtBcudCNS"
      }
    },
    {
      "cell_type": "code",
      "source": [
        "def xavier_init(shape):\n",
        "    in_dim, out_dim = shape\n",
        "    xavier_lim = tf.sqrt(6.) / tf.sqrt(tf.cast(in_dim + out_dim, tf.float32))\n",
        "    weight_vals = tf.random.uniform(shape=(in_dim, out_dim), minval=-xavier_lim, maxval=xavier_lim)\n",
        "    return weight_vals\n",
        "\n",
        "\n",
        "def cross_entropy_loss(y_pred, y):\n",
        "    sparse_ce = tf.nn.sparse_softmax_cross_entropy_with_logits(labels=y, logits=y_pred)\n",
        "    return tf.reduce_mean(sparse_ce)\n",
        "\n",
        "\n",
        "def accuracy(y_pred, y):\n",
        "    class_preds = tf.argmax(tf.nn.softmax(y_pred), axis=1)\n",
        "    is_equal = tf.equal(y, class_preds)\n",
        "    return tf.reduce_mean(tf.cast(is_equal, tf.float32))\n",
        "\n",
        "\n",
        "class DenseLayer(tf.Module):\n",
        "    def __init__(self, out_dim, weight_init=xavier_init, activation=tf.identity):\n",
        "        self.out_dim = out_dim\n",
        "        self.weight_init = weight_init\n",
        "        self.activation = activation\n",
        "        self.built = False\n",
        "\n",
        "    @tf.function\n",
        "    def __call__(self, x):\n",
        "        if not self.built:\n",
        "            self.in_dim = x.shape[1]\n",
        "            self.w = tf.Variable(self.weight_init(shape=(self.in_dim, self.out_dim)))\n",
        "            self.b = tf.Variable(tf.zeros(shape=(self.out_dim,)))\n",
        "            self.built = True\n",
        "        y = tf.add(tf.matmul(x, self.w), self.b)\n",
        "        return self.activation(y)\n",
        "\n",
        "\n",
        "class MLP(tf.Module):\n",
        "    def __init__(self, layers):\n",
        "        self.layers = layers\n",
        "\n",
        "    @tf.function\n",
        "    def __call__(self, x, preds=False):\n",
        "        for layer in self.layers:\n",
        "            x = layer(x)\n",
        "        return x\n",
        "\n",
        "\n",
        "class Adam:\n",
        "    def __init__(self, learning_rate=1e-3, beta_1=0.9, beta_2=0.999, ep=1e-7):\n",
        "        self.beta_1 = beta_1\n",
        "        self.beta_2 = beta_2\n",
        "        self.learning_rate = learning_rate\n",
        "        self.ep = ep\n",
        "        self.t = 1.\n",
        "        self.v_dvar, self.s_dvar = [], []\n",
        "        self.built = False\n",
        "\n",
        "    def apply_gradients(self, grads, vars):\n",
        "        if not self.built:\n",
        "            for var in vars:\n",
        "                v = tf.Variable(tf.zeros(shape=var.shape))\n",
        "                s = tf.Variable(tf.zeros(shape=var.shape))\n",
        "                self.v_dvar.append(v)\n",
        "                self.s_dvar.append(s)\n",
        "            self.built = True\n",
        "\n",
        "        for i, (d_var, var) in enumerate(zip(grads, vars)):\n",
        "            self.v_dvar[i].assign(self.beta_1 * self.v_dvar[i] + (1 - self.beta_1) * d_var)\n",
        "            self.s_dvar[i].assign(self.beta_2 * self.s_dvar[i] + (1 - self.beta_2) * tf.square(d_var))\n",
        "            v_dvar_bc = self.v_dvar[i] / (1 - (self.beta_1 ** self.t))\n",
        "            s_dvar_bc = self.s_dvar[i] / (1 - (self.beta_2 ** self.t))\n",
        "            var.assign_sub(self.learning_rate * (v_dvar_bc / (tf.sqrt(s_dvar_bc) + self.ep)))\n",
        "        self.t += 1.\n",
        "        return\n",
        "\n",
        "\n",
        "def train_step(x_batch, y_batch, loss, acc, model, optimizer):\n",
        "    with tf.GradientTape() as tape:\n",
        "        y_pred = model(x_batch)\n",
        "        batch_loss = loss(y_pred, y_batch)\n",
        "    batch_acc = acc(y_pred, y_batch)\n",
        "    grads = tape.gradient(batch_loss, model.variables)\n",
        "    optimizer.apply_gradients(grads, model.variables)\n",
        "    return batch_loss, batch_acc\n",
        "\n",
        "\n",
        "def val_step(x_batch, y_batch, loss, acc, model):\n",
        "    y_pred = model(x_batch)\n",
        "    batch_loss = loss(y_pred, y_batch)\n",
        "    batch_acc = acc(y_pred, y_batch)\n",
        "    return batch_loss, batch_acc\n",
        "\n",
        "\n",
        "def train_model(mlp, train_data, val_data, loss, acc, optimizer, epochs):\n",
        "    train_losses, train_accs = [], []\n",
        "    val_losses, val_accs = [], []\n",
        "\n",
        "    # Отформатируем тренировочный цикл и начнем обучение\n",
        "    for epoch in range(epochs):\n",
        "        batch_losses_train, batch_accs_train = [], []\n",
        "        batch_losses_val, batch_accs_val = [], []\n",
        "\n",
        "        # Выполняем итерацию по обучающим данным\n",
        "        for x_batch, y_batch in train_data:\n",
        "            batch_loss, batch_acc = train_step(x_batch, y_batch, loss, acc, mlp, optimizer)\n",
        "            batch_losses_train.append(batch_loss)\n",
        "            batch_accs_train.append(batch_acc)\n",
        "\n",
        "        # Повторяем процедуру проверки данных\n",
        "        for x_batch, y_batch in val_data:\n",
        "            batch_loss, batch_acc = val_step(x_batch, y_batch, loss, acc, mlp)\n",
        "            batch_losses_val.append(batch_loss)\n",
        "            batch_accs_val.append(batch_acc)\n",
        "\n",
        "        # Следим за производительностью модели на уровне эпохи\n",
        "        train_loss, train_acc = tf.reduce_mean(batch_losses_train), tf.reduce_mean(batch_accs_train)\n",
        "        val_loss, val_acc = tf.reduce_mean(batch_losses_val), tf.reduce_mean(batch_accs_val)\n",
        "        train_losses.append(train_loss)\n",
        "        train_accs.append(train_acc)\n",
        "        val_losses.append(val_loss)\n",
        "        val_accs.append(val_acc)\n",
        "        print(f\"Эпоха: {epoch}\")\n",
        "        print(f\"Обучающая ошибка: {train_loss:.3f}, Обучающая точность: {train_acc:.3f}\")\n",
        "        print(f\"Валидационная ошибка: {val_loss:.3f}, Валидационная точность: {val_acc:.3f}\")\n",
        "    return train_losses, train_accs, val_losses, val_accs\n",
        "\n",
        "\n",
        "def preprocess(x, y):\n",
        "    x = tf.reshape(x, shape=(-1, 784))\n",
        "    x = x / 255\n",
        "    return x, y\n",
        "\n",
        "\n",
        "class ExportModule(tf.Module):\n",
        "    def __init__(self, model, preprocess, class_pred):\n",
        "        self.model = model\n",
        "        self.preprocess = preprocess\n",
        "        self.class_pred = class_pred\n",
        "\n",
        "    @tf.function(input_signature=[tf.TensorSpec(shape=[None, None, None, None], dtype=tf.uint8)])\n",
        "    def __call__(self, x):\n",
        "        x = self.preprocess(x)\n",
        "        y = self.model(x)\n",
        "        y = self.class_pred(y)\n",
        "        return y\n",
        "\n",
        "\n",
        "def preprocess_test(x):\n",
        "    x = tf.reshape(x, shape=[-1, 784])\n",
        "    x = x / 255\n",
        "    return x\n",
        "\n",
        "\n",
        "def class_pred_test(y):\n",
        "    return tf.argmax(tf.nn.softmax(y), axis=1)\n",
        "\n",
        "\n",
        "def accuracy_score(y_pred, y):\n",
        "    is_equal = tf.equal(y_pred, y)\n",
        "    return tf.reduce_mean(tf.cast(is_equal, tf.float32))"
      ],
      "metadata": {
        "id": "cs4XbYSL6UTq"
      },
      "execution_count": null,
      "outputs": []
    },
    {
      "cell_type": "markdown",
      "source": [
        "Загрузка данных.\n",
        "\n"
      ],
      "metadata": {
        "id": "6a_iuDM6dfSt"
      }
    },
    {
      "cell_type": "code",
      "source": [
        "train_data, val_data = tfds.load(\"mnist\", split=['train[10000:]', 'train[0:10000]'], batch_size=128, as_supervised=True)\n",
        "x_test, y_test = tfds.load(\"mnist\", split=['test'], batch_size=-1, as_supervised=True)[0]\n",
        "\n",
        "train_data, val_data = train_data.map(preprocess), val_data.map(preprocess)\n",
        "\n",
        "hidden_layer_1_size = 700\n",
        "hidden_layer_2_size = 500\n",
        "hidden_layer_3_size = 300\n",
        "hidden_layer_4_size = 100\n",
        "output_size = 10"
      ],
      "metadata": {
        "colab": {
          "base_uri": "https://localhost:8080/",
          "height": 84,
          "referenced_widgets": [
            "5587bbcc2dd44211a05cf96486fdeb05",
            "1ef4b1760bf443b68530552901adaa97",
            "db92bf3edd654e69b7ad33c6b5b34a9c",
            "3496411a2bd04388865346ef1004c83d",
            "cb7be559e0744656ad15830de994764c",
            "d800585935084554b777a025da3a899c",
            "84dda1c5443f4a5ca9a531594199689a",
            "d070c80df3ba49f9bceaebab2537bc65",
            "ff35d74448204163b9edf5de3632eb19",
            "3ef0114c498146db93d58a3f1b0da05c",
            "8cc25bbc0f2942268968808e7dbb0122"
          ]
        },
        "id": "zH4xW0qXiVLC",
        "outputId": "1fc1e8e3-b956-4a4a-9fc7-1b76e268549a"
      },
      "execution_count": null,
      "outputs": [
        {
          "output_type": "stream",
          "name": "stdout",
          "text": [
            "Downloading and preparing dataset 11.06 MiB (download: 11.06 MiB, generated: 21.00 MiB, total: 32.06 MiB) to /root/tensorflow_datasets/mnist/3.0.1...\n"
          ]
        },
        {
          "output_type": "display_data",
          "data": {
            "text/plain": [
              "Dl Completed...:   0%|          | 0/5 [00:00<?, ? file/s]"
            ],
            "application/vnd.jupyter.widget-view+json": {
              "version_major": 2,
              "version_minor": 0,
              "model_id": "5587bbcc2dd44211a05cf96486fdeb05"
            }
          },
          "metadata": {}
        },
        {
          "output_type": "stream",
          "name": "stdout",
          "text": [
            "Dataset mnist downloaded and prepared to /root/tensorflow_datasets/mnist/3.0.1. Subsequent calls will reuse this data.\n"
          ]
        }
      ]
    },
    {
      "cell_type": "markdown",
      "source": [
        "Обучение многослойного персептрона из 2х слоев"
      ],
      "metadata": {
        "id": "4o4qzj6IihyC"
      }
    },
    {
      "cell_type": "code",
      "source": [
        "print('Обучение многослойного персептрона из 2х слоев\\n')\n",
        "mlp_model2 = MLP([DenseLayer(out_dim=hidden_layer_1_size, activation=tf.nn.relu),\n",
        "                  DenseLayer(out_dim=hidden_layer_2_size, activation=tf.nn.relu),\n",
        "                  DenseLayer(out_dim=output_size)])\n",
        "\n",
        "st = time.perf_counter()\n",
        "train_model(mlp_model2, train_data, val_data, loss=cross_entropy_loss, acc=accuracy, optimizer=Adam(), epochs=10)\n",
        "ft = time.perf_counter()\n",
        "print(f\"\\nОбучение заняло {ft - st:0.4f} секунд\")"
      ],
      "metadata": {
        "colab": {
          "base_uri": "https://localhost:8080/"
        },
        "id": "Wa3MGEV0dfwE",
        "outputId": "d1665fa0-eea6-4774-e3d9-26226f810949"
      },
      "execution_count": null,
      "outputs": [
        {
          "output_type": "stream",
          "name": "stdout",
          "text": [
            "Обучение многослойного персептрона из 2х слоев\n",
            "\n",
            "Эпоха: 0\n",
            "Обучающая ошибка: 0.224, Обучающая точность: 0.934\n",
            "Валидационная ошибка: 0.120, Валидационная точность: 0.965\n",
            "Эпоха: 1\n",
            "Обучающая ошибка: 0.079, Обучающая точность: 0.977\n",
            "Валидационная ошибка: 0.089, Валидационная точность: 0.975\n",
            "Эпоха: 2\n",
            "Обучающая ошибка: 0.047, Обучающая точность: 0.986\n",
            "Валидационная ошибка: 0.082, Валидационная точность: 0.977\n",
            "Эпоха: 3\n",
            "Обучающая ошибка: 0.032, Обучающая точность: 0.990\n",
            "Валидационная ошибка: 0.094, Валидационная точность: 0.975\n",
            "Эпоха: 4\n",
            "Обучающая ошибка: 0.027, Обучающая точность: 0.992\n",
            "Валидационная ошибка: 0.095, Валидационная точность: 0.975\n",
            "Эпоха: 5\n",
            "Обучающая ошибка: 0.023, Обучающая точность: 0.992\n",
            "Валидационная ошибка: 0.096, Валидационная точность: 0.976\n",
            "Эпоха: 6\n",
            "Обучающая ошибка: 0.019, Обучающая точность: 0.994\n",
            "Валидационная ошибка: 0.106, Валидационная точность: 0.976\n",
            "Эпоха: 7\n",
            "Обучающая ошибка: 0.016, Обучающая точность: 0.995\n",
            "Валидационная ошибка: 0.099, Валидационная точность: 0.978\n",
            "Эпоха: 8\n",
            "Обучающая ошибка: 0.015, Обучающая точность: 0.995\n",
            "Валидационная ошибка: 0.096, Валидационная точность: 0.980\n",
            "Эпоха: 9\n",
            "Обучающая ошибка: 0.012, Обучающая точность: 0.996\n",
            "Валидационная ошибка: 0.102, Валидационная точность: 0.981\n",
            "\n",
            "Обучение заняло 204.8718 секунд\n"
          ]
        }
      ]
    },
    {
      "cell_type": "markdown",
      "source": [
        "Обучение многослойного персептрона из 4х слоев"
      ],
      "metadata": {
        "id": "ggEOO8PhijWK"
      }
    },
    {
      "cell_type": "code",
      "source": [
        "print('Обучение многослойного персептрона из 4х слоев\\n')\n",
        "mlp_model4 = MLP([DenseLayer(out_dim=hidden_layer_1_size, activation=tf.nn.relu),\n",
        "                  DenseLayer(out_dim=hidden_layer_2_size, activation=tf.nn.relu),\n",
        "                  DenseLayer(out_dim=hidden_layer_3_size, activation=tf.nn.relu),\n",
        "                  DenseLayer(out_dim=hidden_layer_4_size, activation=tf.nn.relu),\n",
        "                  DenseLayer(out_dim=output_size)])\n",
        "\n",
        "st = time.perf_counter()\n",
        "train_model(mlp_model4, train_data, val_data, loss=cross_entropy_loss, acc=accuracy, optimizer=Adam(), epochs=10)\n",
        "ft = time.perf_counter()\n",
        "print(f\"\\n\\nОбучение заняло {ft - st:0.4f} секунд\")"
      ],
      "metadata": {
        "colab": {
          "base_uri": "https://localhost:8080/"
        },
        "id": "JHnm9caQiefC",
        "outputId": "fe104c78-58af-4aec-c5b9-dbf24b068440"
      },
      "execution_count": null,
      "outputs": [
        {
          "output_type": "stream",
          "name": "stdout",
          "text": [
            "Обучение многослойного персептрона из 4х слоев\n",
            "\n",
            "Эпоха: 0\n",
            "Обучающая ошибка: 0.237, Обучающая точность: 0.931\n",
            "Валидационная ошибка: 0.120, Валидационная точность: 0.967\n",
            "Эпоха: 1\n",
            "Обучающая ошибка: 0.089, Обучающая точность: 0.973\n",
            "Валидационная ошибка: 0.112, Валидационная точность: 0.968\n",
            "Эпоха: 2\n",
            "Обучающая ошибка: 0.057, Обучающая точность: 0.982\n",
            "Валидационная ошибка: 0.087, Валидационная точность: 0.976\n",
            "Эпоха: 3\n",
            "Обучающая ошибка: 0.044, Обучающая точность: 0.986\n",
            "Валидационная ошибка: 0.105, Валидационная точность: 0.974\n",
            "Эпоха: 4\n",
            "Обучающая ошибка: 0.035, Обучающая точность: 0.989\n",
            "Валидационная ошибка: 0.103, Валидационная точность: 0.976\n",
            "Эпоха: 5\n",
            "Обучающая ошибка: 0.033, Обучающая точность: 0.989\n",
            "Валидационная ошибка: 0.097, Валидационная точность: 0.976\n",
            "Эпоха: 6\n",
            "Обучающая ошибка: 0.028, Обучающая точность: 0.991\n",
            "Валидационная ошибка: 0.102, Валидационная точность: 0.977\n",
            "Эпоха: 7\n",
            "Обучающая ошибка: 0.020, Обучающая точность: 0.993\n",
            "Валидационная ошибка: 0.121, Валидационная точность: 0.974\n",
            "Эпоха: 8\n",
            "Обучающая ошибка: 0.019, Обучающая точность: 0.994\n",
            "Валидационная ошибка: 0.112, Валидационная точность: 0.979\n",
            "Эпоха: 9\n",
            "Обучающая ошибка: 0.019, Обучающая точность: 0.993\n",
            "Валидационная ошибка: 0.101, Валидационная точность: 0.979\n",
            "\n",
            "\n",
            "Обучение заняло 360.1267 секунд\n"
          ]
        }
      ]
    },
    {
      "cell_type": "markdown",
      "source": [
        "Точность на тестовой выборке"
      ],
      "metadata": {
        "id": "Ecmp5rdDioJr"
      }
    },
    {
      "cell_type": "code",
      "source": [
        "mlp_model_export2 = ExportModule(model=mlp_model2, preprocess=preprocess_test, class_pred=class_pred_test)\n",
        "mlp_model_export4 = ExportModule(model=mlp_model4, preprocess=preprocess_test, class_pred=class_pred_test)\n",
        "\n",
        "test_classes2 = mlp_model_export2(x_test)\n",
        "test_classes4 = mlp_model_export4(x_test)\n",
        "test_acc2 = accuracy_score(test_classes2, y_test)\n",
        "test_acc4 = accuracy_score(test_classes4, y_test)\n",
        "\n",
        "print(f\"Точность на тестовой выборке персептрона из 2х слоев: {test_acc2:.3f}\")\n",
        "print(f\"Точность на тестовой выборке персептрона из 4х слоев: {test_acc4:.3f}\")"
      ],
      "metadata": {
        "colab": {
          "base_uri": "https://localhost:8080/"
        },
        "id": "FNyOOvlDisL6",
        "outputId": "6521dce6-9ae1-476c-a206-38b0cb8f4921"
      },
      "execution_count": null,
      "outputs": [
        {
          "output_type": "stream",
          "name": "stdout",
          "text": [
            "Точность на тестовой выборке персептрона из 2х слоев: 0.979\n",
            "Точность на тестовой выборке персептрона из 4х слоев: 0.979\n"
          ]
        }
      ]
    },
    {
      "cell_type": "markdown",
      "source": [
        "**Увеличение слоев - увеличивает время обучения, но не всегда улучшает результат, в данном случае у тестовой выборки остался такой же результат.**"
      ],
      "metadata": {
        "id": "A1KsGYEJh7N6"
      }
    },
    {
      "cell_type": "markdown",
      "source": [
        "#####  **2. В качестве датасета использовать любой из наборов данных TensorFlow. Обучить модель. Добейтесь результата распознования более 85% на тестовой выборке. [Датасеты на выбор](https://www.tensorflow.org/datasets/overview). За задание дополнительно - 3 балла.**"
      ],
      "metadata": {
        "id": "oTUe7orXpADQ"
      }
    },
    {
      "cell_type": "markdown",
      "source": [
        "Инициализация функций/классов"
      ],
      "metadata": {
        "id": "XZwU16XMyw8Z"
      }
    },
    {
      "cell_type": "code",
      "source": [
        "def xavier_init(shape):\n",
        "    in_dim, out_dim = shape\n",
        "    xavier_lim = tf.sqrt(6.) / tf.sqrt(tf.cast(in_dim + out_dim, tf.float32))\n",
        "    weight_vals = tf.random.uniform(shape=(in_dim, out_dim), minval=-xavier_lim, maxval=xavier_lim)\n",
        "    return weight_vals\n",
        "\n",
        "\n",
        "def cross_entropy_loss(y_pred, y):\n",
        "    sparse_ce = tf.nn.sparse_softmax_cross_entropy_with_logits(labels=y, logits=y_pred)\n",
        "    return tf.reduce_mean(sparse_ce)\n",
        "\n",
        "\n",
        "def accuracy(y_pred, y):\n",
        "    class_preds = tf.argmax(tf.nn.softmax(y_pred), axis=1)\n",
        "    is_equal = tf.equal(y, class_preds)\n",
        "    return tf.reduce_mean(tf.cast(is_equal, tf.float32))\n",
        "\n",
        "\n",
        "class DenseLayer(tf.Module):\n",
        "    def __init__(self, out_dim, weight_init=xavier_init, activation=tf.identity):\n",
        "        self.out_dim = out_dim\n",
        "        self.weight_init = weight_init\n",
        "        self.activation = activation\n",
        "        self.built = False\n",
        "\n",
        "    @tf.function\n",
        "    def __call__(self, x):\n",
        "        if not self.built:\n",
        "            self.in_dim = x.shape[1]\n",
        "            self.w = tf.Variable(self.weight_init(shape=(self.in_dim, self.out_dim)))\n",
        "            self.b = tf.Variable(tf.zeros(shape=(self.out_dim,)))\n",
        "            self.built = True\n",
        "        y = tf.add(tf.matmul(x, self.w), self.b)\n",
        "        return self.activation(y)\n",
        "\n",
        "\n",
        "class MLP(tf.Module):\n",
        "    def __init__(self, layers):\n",
        "        self.layers = layers\n",
        "\n",
        "    @tf.function\n",
        "    def __call__(self, x, preds=False):\n",
        "        for layer in self.layers:\n",
        "            x = layer(x)\n",
        "        return x\n",
        "\n",
        "\n",
        "class Adam:\n",
        "    def __init__(self, learning_rate=1e-3, beta_1=0.9, beta_2=0.999, ep=1e-7):\n",
        "        self.beta_1 = beta_1\n",
        "        self.beta_2 = beta_2\n",
        "        self.learning_rate = learning_rate\n",
        "        self.ep = ep\n",
        "        self.t = 1.\n",
        "        self.v_dvar, self.s_dvar = [], []\n",
        "        self.built = False\n",
        "\n",
        "    def apply_gradients(self, grads, vars):\n",
        "        if not self.built:\n",
        "            for var in vars:\n",
        "                v = tf.Variable(tf.zeros(shape=var.shape))\n",
        "                s = tf.Variable(tf.zeros(shape=var.shape))\n",
        "                self.v_dvar.append(v)\n",
        "                self.s_dvar.append(s)\n",
        "            self.built = True\n",
        "\n",
        "        for i, (d_var, var) in enumerate(zip(grads, vars)):\n",
        "            self.v_dvar[i].assign(self.beta_1 * self.v_dvar[i] + (1 - self.beta_1) * d_var)\n",
        "            self.s_dvar[i].assign(self.beta_2 * self.s_dvar[i] + (1 - self.beta_2) * tf.square(d_var))\n",
        "            v_dvar_bc = self.v_dvar[i] / (1 - (self.beta_1 ** self.t))\n",
        "            s_dvar_bc = self.s_dvar[i] / (1 - (self.beta_2 ** self.t))\n",
        "            var.assign_sub(self.learning_rate * (v_dvar_bc / (tf.sqrt(s_dvar_bc) + self.ep)))\n",
        "        self.t += 1.\n",
        "        return\n",
        "\n",
        "\n",
        "def train_step(x_batch, y_batch, loss, acc, model, optimizer):\n",
        "    # Обновляем состояние модели с учетом пакета данных\n",
        "    with tf.GradientTape() as tape:\n",
        "        y_pred = model(x_batch)\n",
        "        batch_loss = loss(y_pred, y_batch)\n",
        "    batch_acc = acc(y_pred, y_batch)\n",
        "    grads = tape.gradient(batch_loss, model.variables)\n",
        "    optimizer.apply_gradients(grads, model.variables)\n",
        "    return batch_loss, batch_acc\n",
        "\n",
        "\n",
        "def train_model(mlp, train_data, loss, acc, optimizer, epochs):\n",
        "    # Отформатируем тренировочный цикл и начнем обучение\n",
        "    for epoch in range(epochs):\n",
        "        batch_losses_train, batch_accs_train = [], []\n",
        "        # Выполняем итерацию по обучающим данным\n",
        "        for x_batch, y_batch in train_data:\n",
        "            batch_loss, batch_acc = train_step(x_batch, y_batch, loss, acc, mlp, optimizer)\n",
        "            batch_losses_train.append(batch_loss)\n",
        "            batch_accs_train.append(batch_acc)\n",
        "        # Следим за производительностью модели на уровне эпохи\n",
        "        train_loss, train_acc = tf.reduce_mean(batch_losses_train), tf.reduce_mean(batch_accs_train)\n",
        "        print(f\"Эпоха: {epoch}\")\n",
        "        print(f\"Обучающая ошибка: {train_loss:.3f}, Обучающая точность: {train_acc:.3f}\")\n",
        "\n",
        "\n",
        "def preprocess(x, y):\n",
        "    x = tf.reshape(x, shape=(-1, 784))\n",
        "    x = x / 255\n",
        "    return x, y\n",
        "\n",
        "\n",
        "def process_test(test_data, model):\n",
        "    equal_test = []\n",
        "    for x_batch, y_batch in test_data:\n",
        "        batch_test = []\n",
        "        y_pred = model(x_batch)\n",
        "        for i in tf.nn.softmax(y_pred, axis=1):\n",
        "            batch_test.append(tf.argmax(i))\n",
        "        is_equal = tf.equal(batch_test, y_batch)\n",
        "        equal_test.extend(is_equal)\n",
        "    return tf.reduce_mean(tf.cast(equal_test, tf.float32))"
      ],
      "metadata": {
        "id": "e7XCtfF5pCLf"
      },
      "execution_count": null,
      "outputs": []
    },
    {
      "cell_type": "markdown",
      "source": [
        "Загрузка данных."
      ],
      "metadata": {
        "id": "BIdUHJrS6OiR"
      }
    },
    {
      "cell_type": "code",
      "source": [
        "train_data, test_data = tfds.load(\"fashion_mnist\", split=['train', 'test'], as_supervised=True, batch_size=128)\n",
        "train_data, test_data = train_data.map(preprocess), test_data.map(preprocess)"
      ],
      "metadata": {
        "id": "3sznUbgX6JqJ"
      },
      "execution_count": null,
      "outputs": []
    },
    {
      "cell_type": "markdown",
      "source": [
        "Обучение многослойного персептрона из 2х слоев"
      ],
      "metadata": {
        "id": "4DybZ4LfzEp5"
      }
    },
    {
      "cell_type": "code",
      "source": [
        "hidden_layer_1_size = 700\n",
        "hidden_layer_2_size = 500\n",
        "output_size = 10\n",
        "\n",
        "mlp_model = MLP([DenseLayer(out_dim=hidden_layer_1_size, activation=tf.nn.relu),\n",
        "                 DenseLayer(out_dim=hidden_layer_2_size, activation=tf.nn.relu),\n",
        "                 DenseLayer(out_dim=output_size)])\n",
        "train_model(mlp_model, train_data, loss=cross_entropy_loss, acc=accuracy, optimizer=Adam(), epochs=10)"
      ],
      "metadata": {
        "colab": {
          "base_uri": "https://localhost:8080/"
        },
        "id": "jXRhSbBUy3Vd",
        "outputId": "09e53cf5-3ad2-45ed-c85f-bf5647cf60ef"
      },
      "execution_count": null,
      "outputs": [
        {
          "output_type": "stream",
          "name": "stdout",
          "text": [
            "Эпоха: 0\n",
            "Обучающая ошибка: 0.470, Обучающая точность: 0.831\n",
            "Эпоха: 1\n",
            "Обучающая ошибка: 0.349, Обучающая точность: 0.871\n",
            "Эпоха: 2\n",
            "Обучающая ошибка: 0.312, Обучающая точность: 0.885\n",
            "Эпоха: 3\n",
            "Обучающая ошибка: 0.287, Обучающая точность: 0.893\n",
            "Эпоха: 4\n",
            "Обучающая ошибка: 0.269, Обучающая точность: 0.899\n",
            "Эпоха: 5\n",
            "Обучающая ошибка: 0.249, Обучающая точность: 0.906\n",
            "Эпоха: 6\n",
            "Обучающая ошибка: 0.236, Обучающая точность: 0.912\n",
            "Эпоха: 7\n",
            "Обучающая ошибка: 0.224, Обучающая точность: 0.916\n",
            "Эпоха: 8\n",
            "Обучающая ошибка: 0.212, Обучающая точность: 0.920\n",
            "Эпоха: 9\n",
            "Обучающая ошибка: 0.199, Обучающая точность: 0.925\n"
          ]
        }
      ]
    },
    {
      "cell_type": "markdown",
      "source": [
        "Точность на тестовой выборке"
      ],
      "metadata": {
        "id": "ziLuaYkUzKBO"
      }
    },
    {
      "cell_type": "code",
      "source": [
        "test_accuracy = process_test(test_data, model=mlp_model)\n",
        "print(f\"Точность на тестовой выборке: {test_accuracy:.3f}\")"
      ],
      "metadata": {
        "colab": {
          "base_uri": "https://localhost:8080/"
        },
        "id": "A-OVawBBy_Nb",
        "outputId": "ae407738-904b-45c0-a14d-2cb7d35cbff6"
      },
      "execution_count": null,
      "outputs": [
        {
          "output_type": "stream",
          "name": "stdout",
          "text": [
            "Точность на тестовой выборке: 0.886\n"
          ]
        }
      ]
    }
  ]
}